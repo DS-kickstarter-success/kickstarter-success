{
 "cells": [
  {
   "cell_type": "markdown",
   "metadata": {},
   "source": [
    "# BW Project Title\n",
    "\n",
    "## Team Members\n",
    "- Zack Snyder\n",
    "\n",
    "## Project Description\n",
    "This model will utilize data from the Kaggle kickstarter dataset to predict whether a kickstarter project will be successful. "
   ]
  },
  {
   "cell_type": "code",
   "execution_count": 1,
   "metadata": {},
   "outputs": [
    {
     "output_type": "stream",
     "name": "stdout",
     "text": [
      "Numpy Version: 1.19.5\nTensorflow Version: 2.4.1\nPandas Version: 1.2.2\n"
     ]
    }
   ],
   "source": [
    "# Import required packages\n",
    "import numpy as np\n",
    "import tensorflow as tf\n",
    "import pandas as pd\n",
    "\n",
    "print(f'Numpy Version: {np.__version__}')\n",
    "print(f'Tensorflow Version: {tf.__version__}')\n",
    "print(f'Pandas Version: {pd.__version__}')"
   ]
  },
  {
   "cell_type": "markdown",
   "metadata": {},
   "source": [
    "## Load Data"
   ]
  },
  {
   "cell_type": "code",
   "execution_count": 37,
   "metadata": {},
   "outputs": [
    {
     "output_type": "execute_result",
     "data": {
      "text/plain": [
       "                 ID                                               name   \\\n",
       "296884  8.390613e+08  SmartSurface: A Parallelly Projected Touch Ena...   \n",
       "347167           NaN                                                NaN   \n",
       "153852  1.914237e+09  Conducting Product Demos For Healthy, Sugar Fr...   \n",
       "77300   1.459180e+09  Fashion Mobility, for the Able & Differently Able   \n",
       "179633  2.069925e+09  Black Cloud - a documentary about Austin-Travi...   \n",
       "190936  2.136718e+09                TOB Cable: One cable for everything   \n",
       "77216   1.458679e+09               Socially Positive Playing Cards v2.1   \n",
       "121201  1.719719e+08                                   The Zombie Squad   \n",
       "361703           NaN                                                NaN   \n",
       "200977  2.638403e+08                             The Original Bag Daddy   \n",
       "\n",
       "             category  main_category  currency             deadline   goal   \\\n",
       "296884         Gadgets     Technology       USD  2016-12-04 18:14:47  10000   \n",
       "347167             NaN            NaN       NaN                  NaN    NaN   \n",
       "153852            Food           Food       USD  2015-03-28 01:16:55   5000   \n",
       "77300          Fashion        Fashion       USD  2015-02-05 21:46:39   4899   \n",
       "179633     Documentary   Film & Video       USD  2015-06-16 16:43:56   5000   \n",
       "190936      Technology     Technology       USD  2015-03-18 09:14:12  20000   \n",
       "77216            Games          Games       USD  2016-04-01 21:16:27   3750   \n",
       "121201  Tabletop Games          Games       GBP  2016-10-25 19:29:58   2000   \n",
       "361703             NaN            NaN       NaN                  NaN    NaN   \n",
       "200977  Product Design         Design       USD  2016-07-17 18:08:12  14271   \n",
       "\n",
       "                  launched  pledged       state   ...    deadline      goal  \\\n",
       "296884  2016-11-04 17:14:47     1346      failed  ...  2016-04-03    2400.0   \n",
       "347167                  NaN      NaN         NaN  ...  2017-07-06   15000.0   \n",
       "153852  2015-02-26 02:16:55        0      failed  ...  2012-05-04     400.0   \n",
       "77300   2014-12-22 21:46:39        6      failed  ...  2017-07-20    1500.0   \n",
       "179633  2015-05-17 16:43:56    14386  successful  ...  2015-05-22     440.0   \n",
       "190936  2015-02-16 10:14:12    97126  successful  ...  2011-11-01    7500.0   \n",
       "77216   2016-03-02 21:16:27      122      failed  ...  2011-04-03   20000.0   \n",
       "121201  2016-09-25 19:29:58     3266  successful  ...  2011-12-10    8500.0   \n",
       "361703                  NaN      NaN         NaN  ...  2011-10-30    7200.0   \n",
       "200977  2016-06-09 18:08:12      246      failed  ...  2014-05-30  182700.0   \n",
       "\n",
       "                   launched   pledged       state backers  country  \\\n",
       "296884  2016-02-03 02:33:03      0.00      failed       0       US   \n",
       "347167  2017-05-22 17:11:33  12616.00      failed      90       US   \n",
       "153852  2012-04-27 23:21:39      0.00      failed       0       US   \n",
       "77300   2017-06-20 09:43:07    204.00      failed       5       ES   \n",
       "179633  2015-04-22 22:44:21    441.00  successful      18       GB   \n",
       "190936  2011-09-29 23:45:58   1445.00      failed      14       US   \n",
       "77216   2011-03-02 04:22:14    165.00      failed       5       US   \n",
       "121201  2011-10-26 01:23:30   8840.00  successful     150       US   \n",
       "361703  2011-10-08 01:23:25     72.02    canceled       4       US   \n",
       "200977  2014-04-06 13:57:52      0.00      failed       0       GB   \n",
       "\n",
       "        usd pledged usd_pledged_real usd_goal_real  \n",
       "296884         0.00             0.00       2400.00  \n",
       "347167      7743.00         12616.00      15000.00  \n",
       "153852         0.00             0.00        400.00  \n",
       "77300         94.06           237.50       1746.30  \n",
       "179633       656.51           689.73        688.17  \n",
       "190936      1445.00          1445.00       7500.00  \n",
       "77216        165.00           165.00      20000.00  \n",
       "121201      8840.00          8840.00       8500.00  \n",
       "361703        72.02            72.02       7200.00  \n",
       "200977         0.00             0.00     305743.36  \n",
       "\n",
       "[10 rows x 32 columns]"
      ],
      "text/html": "<div>\n<style scoped>\n    .dataframe tbody tr th:only-of-type {\n        vertical-align: middle;\n    }\n\n    .dataframe tbody tr th {\n        vertical-align: top;\n    }\n\n    .dataframe thead th {\n        text-align: right;\n    }\n</style>\n<table border=\"1\" class=\"dataframe\">\n  <thead>\n    <tr style=\"text-align: right;\">\n      <th></th>\n      <th>ID</th>\n      <th>name</th>\n      <th>category</th>\n      <th>main_category</th>\n      <th>currency</th>\n      <th>deadline</th>\n      <th>goal</th>\n      <th>launched</th>\n      <th>pledged</th>\n      <th>state</th>\n      <th>...</th>\n      <th>deadline</th>\n      <th>goal</th>\n      <th>launched</th>\n      <th>pledged</th>\n      <th>state</th>\n      <th>backers</th>\n      <th>country</th>\n      <th>usd pledged</th>\n      <th>usd_pledged_real</th>\n      <th>usd_goal_real</th>\n    </tr>\n  </thead>\n  <tbody>\n    <tr>\n      <th>296884</th>\n      <td>8.390613e+08</td>\n      <td>SmartSurface: A Parallelly Projected Touch Ena...</td>\n      <td>Gadgets</td>\n      <td>Technology</td>\n      <td>USD</td>\n      <td>2016-12-04 18:14:47</td>\n      <td>10000</td>\n      <td>2016-11-04 17:14:47</td>\n      <td>1346</td>\n      <td>failed</td>\n      <td>...</td>\n      <td>2016-04-03</td>\n      <td>2400.0</td>\n      <td>2016-02-03 02:33:03</td>\n      <td>0.00</td>\n      <td>failed</td>\n      <td>0</td>\n      <td>US</td>\n      <td>0.00</td>\n      <td>0.00</td>\n      <td>2400.00</td>\n    </tr>\n    <tr>\n      <th>347167</th>\n      <td>NaN</td>\n      <td>NaN</td>\n      <td>NaN</td>\n      <td>NaN</td>\n      <td>NaN</td>\n      <td>NaN</td>\n      <td>NaN</td>\n      <td>NaN</td>\n      <td>NaN</td>\n      <td>NaN</td>\n      <td>...</td>\n      <td>2017-07-06</td>\n      <td>15000.0</td>\n      <td>2017-05-22 17:11:33</td>\n      <td>12616.00</td>\n      <td>failed</td>\n      <td>90</td>\n      <td>US</td>\n      <td>7743.00</td>\n      <td>12616.00</td>\n      <td>15000.00</td>\n    </tr>\n    <tr>\n      <th>153852</th>\n      <td>1.914237e+09</td>\n      <td>Conducting Product Demos For Healthy, Sugar Fr...</td>\n      <td>Food</td>\n      <td>Food</td>\n      <td>USD</td>\n      <td>2015-03-28 01:16:55</td>\n      <td>5000</td>\n      <td>2015-02-26 02:16:55</td>\n      <td>0</td>\n      <td>failed</td>\n      <td>...</td>\n      <td>2012-05-04</td>\n      <td>400.0</td>\n      <td>2012-04-27 23:21:39</td>\n      <td>0.00</td>\n      <td>failed</td>\n      <td>0</td>\n      <td>US</td>\n      <td>0.00</td>\n      <td>0.00</td>\n      <td>400.00</td>\n    </tr>\n    <tr>\n      <th>77300</th>\n      <td>1.459180e+09</td>\n      <td>Fashion Mobility, for the Able &amp; Differently Able</td>\n      <td>Fashion</td>\n      <td>Fashion</td>\n      <td>USD</td>\n      <td>2015-02-05 21:46:39</td>\n      <td>4899</td>\n      <td>2014-12-22 21:46:39</td>\n      <td>6</td>\n      <td>failed</td>\n      <td>...</td>\n      <td>2017-07-20</td>\n      <td>1500.0</td>\n      <td>2017-06-20 09:43:07</td>\n      <td>204.00</td>\n      <td>failed</td>\n      <td>5</td>\n      <td>ES</td>\n      <td>94.06</td>\n      <td>237.50</td>\n      <td>1746.30</td>\n    </tr>\n    <tr>\n      <th>179633</th>\n      <td>2.069925e+09</td>\n      <td>Black Cloud - a documentary about Austin-Travi...</td>\n      <td>Documentary</td>\n      <td>Film &amp; Video</td>\n      <td>USD</td>\n      <td>2015-06-16 16:43:56</td>\n      <td>5000</td>\n      <td>2015-05-17 16:43:56</td>\n      <td>14386</td>\n      <td>successful</td>\n      <td>...</td>\n      <td>2015-05-22</td>\n      <td>440.0</td>\n      <td>2015-04-22 22:44:21</td>\n      <td>441.00</td>\n      <td>successful</td>\n      <td>18</td>\n      <td>GB</td>\n      <td>656.51</td>\n      <td>689.73</td>\n      <td>688.17</td>\n    </tr>\n    <tr>\n      <th>190936</th>\n      <td>2.136718e+09</td>\n      <td>TOB Cable: One cable for everything</td>\n      <td>Technology</td>\n      <td>Technology</td>\n      <td>USD</td>\n      <td>2015-03-18 09:14:12</td>\n      <td>20000</td>\n      <td>2015-02-16 10:14:12</td>\n      <td>97126</td>\n      <td>successful</td>\n      <td>...</td>\n      <td>2011-11-01</td>\n      <td>7500.0</td>\n      <td>2011-09-29 23:45:58</td>\n      <td>1445.00</td>\n      <td>failed</td>\n      <td>14</td>\n      <td>US</td>\n      <td>1445.00</td>\n      <td>1445.00</td>\n      <td>7500.00</td>\n    </tr>\n    <tr>\n      <th>77216</th>\n      <td>1.458679e+09</td>\n      <td>Socially Positive Playing Cards v2.1</td>\n      <td>Games</td>\n      <td>Games</td>\n      <td>USD</td>\n      <td>2016-04-01 21:16:27</td>\n      <td>3750</td>\n      <td>2016-03-02 21:16:27</td>\n      <td>122</td>\n      <td>failed</td>\n      <td>...</td>\n      <td>2011-04-03</td>\n      <td>20000.0</td>\n      <td>2011-03-02 04:22:14</td>\n      <td>165.00</td>\n      <td>failed</td>\n      <td>5</td>\n      <td>US</td>\n      <td>165.00</td>\n      <td>165.00</td>\n      <td>20000.00</td>\n    </tr>\n    <tr>\n      <th>121201</th>\n      <td>1.719719e+08</td>\n      <td>The Zombie Squad</td>\n      <td>Tabletop Games</td>\n      <td>Games</td>\n      <td>GBP</td>\n      <td>2016-10-25 19:29:58</td>\n      <td>2000</td>\n      <td>2016-09-25 19:29:58</td>\n      <td>3266</td>\n      <td>successful</td>\n      <td>...</td>\n      <td>2011-12-10</td>\n      <td>8500.0</td>\n      <td>2011-10-26 01:23:30</td>\n      <td>8840.00</td>\n      <td>successful</td>\n      <td>150</td>\n      <td>US</td>\n      <td>8840.00</td>\n      <td>8840.00</td>\n      <td>8500.00</td>\n    </tr>\n    <tr>\n      <th>361703</th>\n      <td>NaN</td>\n      <td>NaN</td>\n      <td>NaN</td>\n      <td>NaN</td>\n      <td>NaN</td>\n      <td>NaN</td>\n      <td>NaN</td>\n      <td>NaN</td>\n      <td>NaN</td>\n      <td>NaN</td>\n      <td>...</td>\n      <td>2011-10-30</td>\n      <td>7200.0</td>\n      <td>2011-10-08 01:23:25</td>\n      <td>72.02</td>\n      <td>canceled</td>\n      <td>4</td>\n      <td>US</td>\n      <td>72.02</td>\n      <td>72.02</td>\n      <td>7200.00</td>\n    </tr>\n    <tr>\n      <th>200977</th>\n      <td>2.638403e+08</td>\n      <td>The Original Bag Daddy</td>\n      <td>Product Design</td>\n      <td>Design</td>\n      <td>USD</td>\n      <td>2016-07-17 18:08:12</td>\n      <td>14271</td>\n      <td>2016-06-09 18:08:12</td>\n      <td>246</td>\n      <td>failed</td>\n      <td>...</td>\n      <td>2014-05-30</td>\n      <td>182700.0</td>\n      <td>2014-04-06 13:57:52</td>\n      <td>0.00</td>\n      <td>failed</td>\n      <td>0</td>\n      <td>GB</td>\n      <td>0.00</td>\n      <td>0.00</td>\n      <td>305743.36</td>\n    </tr>\n  </tbody>\n</table>\n<p>10 rows × 32 columns</p>\n</div>"
     },
     "metadata": {},
     "execution_count": 37
    }
   ],
   "source": [
    "df1 = pd.read_csv(r'C:\\Users\\zacks\\repos\\kickstarter-success\\U4-BW-Template\\U4-BW-Template\\data\\ks-projects-201612.csv')\n",
    "df2 = pd.read_csv(r'C:\\Users\\zacks\\repos\\kickstarter-success\\U4-BW-Template\\U4-BW-Template\\data\\ks-projects-201801.csv')\n",
    "df = pd.concat([df1, df2], axis=1)\n",
    "df.sample(10)"
   ]
  },
  {
   "cell_type": "code",
   "execution_count": 38,
   "metadata": {},
   "outputs": [
    {
     "output_type": "execute_result",
     "data": {
      "text/plain": [
       "(378661, 13)"
      ]
     },
     "metadata": {},
     "execution_count": 38
    }
   ],
   "source": [
    "df = df.dropna(axis=1)\n",
    "df.shape"
   ]
  },
  {
   "cell_type": "code",
   "execution_count": 39,
   "metadata": {},
   "outputs": [
    {
     "output_type": "execute_result",
     "data": {
      "text/plain": [
       "                ID        category main_category currency    deadline  \\\n",
       "121283  1616020703            Food          Food      USD  2012-09-01   \n",
       "131509  1667483257     Documentary  Film & Video      USD  2014-06-28   \n",
       "77590   1394722944          Crafts        Crafts      GBP  2015-02-22   \n",
       "207740   205872037         Apparel       Fashion      USD  2016-04-19   \n",
       "360400   906206441  Product Design        Design      USD  2016-09-18   \n",
       "272929   458589493     Digital Art           Art      USD  2014-04-02   \n",
       "24530   1124482562       Video Art           Art      USD  2017-10-13   \n",
       "106090   153923176     Small Batch          Food      CAD  2015-05-29   \n",
       "118441  1601710923     Food Trucks          Food      USD  2016-12-20   \n",
       "137776  1699692798  Tabletop Games         Games      GBP  2014-11-12   \n",
       "\n",
       "           goal             launched  pledged       state  backers country  \\\n",
       "121283   2500.0  2012-08-02 00:23:32    385.0      failed       11      US   \n",
       "131509  49000.0  2014-05-29 17:47:35      0.0      failed        0      US   \n",
       "77590     300.0  2015-01-23 00:24:49     24.0      failed        7      GB   \n",
       "207740  12000.0  2016-03-19 00:43:58   4023.0      failed       16      US   \n",
       "360400  15000.0  2016-08-19 02:25:57  15001.0  successful      201      US   \n",
       "272929  25000.0  2014-02-01 06:01:02    100.0      failed        1      US   \n",
       "24530    3000.0  2017-08-15 00:51:12    941.0      failed       12      US   \n",
       "106090   5000.0  2015-04-29 18:38:59      0.0    canceled        0      CA   \n",
       "118441   8000.0  2016-11-20 21:23:07     70.0      failed        3      US   \n",
       "137776  16000.0  2014-10-13 22:25:50  21893.0  successful      348      GB   \n",
       "\n",
       "        usd_pledged_real  usd_goal_real  \n",
       "121283            385.00        2500.00  \n",
       "131509              0.00       49000.00  \n",
       "77590              37.07         463.31  \n",
       "207740           4023.00       12000.00  \n",
       "360400          15001.00       15000.00  \n",
       "272929            100.00       25000.00  \n",
       "24530             941.00        3000.00  \n",
       "106090              0.00        4018.32  \n",
       "118441             70.00        8000.00  \n",
       "137776          34272.61       25047.36  "
      ],
      "text/html": "<div>\n<style scoped>\n    .dataframe tbody tr th:only-of-type {\n        vertical-align: middle;\n    }\n\n    .dataframe tbody tr th {\n        vertical-align: top;\n    }\n\n    .dataframe thead th {\n        text-align: right;\n    }\n</style>\n<table border=\"1\" class=\"dataframe\">\n  <thead>\n    <tr style=\"text-align: right;\">\n      <th></th>\n      <th>ID</th>\n      <th>category</th>\n      <th>main_category</th>\n      <th>currency</th>\n      <th>deadline</th>\n      <th>goal</th>\n      <th>launched</th>\n      <th>pledged</th>\n      <th>state</th>\n      <th>backers</th>\n      <th>country</th>\n      <th>usd_pledged_real</th>\n      <th>usd_goal_real</th>\n    </tr>\n  </thead>\n  <tbody>\n    <tr>\n      <th>121283</th>\n      <td>1616020703</td>\n      <td>Food</td>\n      <td>Food</td>\n      <td>USD</td>\n      <td>2012-09-01</td>\n      <td>2500.0</td>\n      <td>2012-08-02 00:23:32</td>\n      <td>385.0</td>\n      <td>failed</td>\n      <td>11</td>\n      <td>US</td>\n      <td>385.00</td>\n      <td>2500.00</td>\n    </tr>\n    <tr>\n      <th>131509</th>\n      <td>1667483257</td>\n      <td>Documentary</td>\n      <td>Film &amp; Video</td>\n      <td>USD</td>\n      <td>2014-06-28</td>\n      <td>49000.0</td>\n      <td>2014-05-29 17:47:35</td>\n      <td>0.0</td>\n      <td>failed</td>\n      <td>0</td>\n      <td>US</td>\n      <td>0.00</td>\n      <td>49000.00</td>\n    </tr>\n    <tr>\n      <th>77590</th>\n      <td>1394722944</td>\n      <td>Crafts</td>\n      <td>Crafts</td>\n      <td>GBP</td>\n      <td>2015-02-22</td>\n      <td>300.0</td>\n      <td>2015-01-23 00:24:49</td>\n      <td>24.0</td>\n      <td>failed</td>\n      <td>7</td>\n      <td>GB</td>\n      <td>37.07</td>\n      <td>463.31</td>\n    </tr>\n    <tr>\n      <th>207740</th>\n      <td>205872037</td>\n      <td>Apparel</td>\n      <td>Fashion</td>\n      <td>USD</td>\n      <td>2016-04-19</td>\n      <td>12000.0</td>\n      <td>2016-03-19 00:43:58</td>\n      <td>4023.0</td>\n      <td>failed</td>\n      <td>16</td>\n      <td>US</td>\n      <td>4023.00</td>\n      <td>12000.00</td>\n    </tr>\n    <tr>\n      <th>360400</th>\n      <td>906206441</td>\n      <td>Product Design</td>\n      <td>Design</td>\n      <td>USD</td>\n      <td>2016-09-18</td>\n      <td>15000.0</td>\n      <td>2016-08-19 02:25:57</td>\n      <td>15001.0</td>\n      <td>successful</td>\n      <td>201</td>\n      <td>US</td>\n      <td>15001.00</td>\n      <td>15000.00</td>\n    </tr>\n    <tr>\n      <th>272929</th>\n      <td>458589493</td>\n      <td>Digital Art</td>\n      <td>Art</td>\n      <td>USD</td>\n      <td>2014-04-02</td>\n      <td>25000.0</td>\n      <td>2014-02-01 06:01:02</td>\n      <td>100.0</td>\n      <td>failed</td>\n      <td>1</td>\n      <td>US</td>\n      <td>100.00</td>\n      <td>25000.00</td>\n    </tr>\n    <tr>\n      <th>24530</th>\n      <td>1124482562</td>\n      <td>Video Art</td>\n      <td>Art</td>\n      <td>USD</td>\n      <td>2017-10-13</td>\n      <td>3000.0</td>\n      <td>2017-08-15 00:51:12</td>\n      <td>941.0</td>\n      <td>failed</td>\n      <td>12</td>\n      <td>US</td>\n      <td>941.00</td>\n      <td>3000.00</td>\n    </tr>\n    <tr>\n      <th>106090</th>\n      <td>153923176</td>\n      <td>Small Batch</td>\n      <td>Food</td>\n      <td>CAD</td>\n      <td>2015-05-29</td>\n      <td>5000.0</td>\n      <td>2015-04-29 18:38:59</td>\n      <td>0.0</td>\n      <td>canceled</td>\n      <td>0</td>\n      <td>CA</td>\n      <td>0.00</td>\n      <td>4018.32</td>\n    </tr>\n    <tr>\n      <th>118441</th>\n      <td>1601710923</td>\n      <td>Food Trucks</td>\n      <td>Food</td>\n      <td>USD</td>\n      <td>2016-12-20</td>\n      <td>8000.0</td>\n      <td>2016-11-20 21:23:07</td>\n      <td>70.0</td>\n      <td>failed</td>\n      <td>3</td>\n      <td>US</td>\n      <td>70.00</td>\n      <td>8000.00</td>\n    </tr>\n    <tr>\n      <th>137776</th>\n      <td>1699692798</td>\n      <td>Tabletop Games</td>\n      <td>Games</td>\n      <td>GBP</td>\n      <td>2014-11-12</td>\n      <td>16000.0</td>\n      <td>2014-10-13 22:25:50</td>\n      <td>21893.0</td>\n      <td>successful</td>\n      <td>348</td>\n      <td>GB</td>\n      <td>34272.61</td>\n      <td>25047.36</td>\n    </tr>\n  </tbody>\n</table>\n</div>"
     },
     "metadata": {},
     "execution_count": 39
    }
   ],
   "source": [
    "df.sample(10)"
   ]
  },
  {
   "cell_type": "code",
   "execution_count": 40,
   "metadata": {},
   "outputs": [
    {
     "output_type": "execute_result",
     "data": {
      "text/plain": [
       "(339882, 13)"
      ]
     },
     "metadata": {},
     "execution_count": 40
    }
   ],
   "source": [
    "df = df[df['state'] != 'canceled']\n",
    "\n",
    "df.shape"
   ]
  },
  {
   "cell_type": "code",
   "execution_count": 41,
   "metadata": {},
   "outputs": [
    {
     "output_type": "execute_result",
     "data": {
      "text/plain": [
       "                ID        category main_category currency    deadline  \\\n",
       "88789   1451321096         Fiction    Publishing      USD  2011-10-16   \n",
       "132607  1673007473  Tabletop Games         Games      USD  2012-07-01   \n",
       "354341   875214108     Documentary  Film & Video      CAD  2016-11-10   \n",
       "162870  1828533945  Product Design        Design      USD  2017-02-10   \n",
       "158956  1808475754         Theater       Theater      USD  2014-05-02   \n",
       "302622   611016814    Film & Video  Film & Video      USD  2015-12-17   \n",
       "120994  1614576560         Theater       Theater      USD  2011-07-19   \n",
       "290698    54915628      Technology    Technology      USD  2014-07-06   \n",
       "333907   770898325         Fiction    Publishing      USD  2012-07-24   \n",
       "14455   1072736325          Crafts        Crafts      USD  2015-04-06   \n",
       "\n",
       "           goal             launched    pledged       state  backers country  \\\n",
       "88789    1200.0  2011-08-17 13:51:58      26.00      failed        2      US   \n",
       "132607  15000.0  2012-05-30 16:03:41   52256.76  successful      582      US   \n",
       "354341  10000.0  2016-10-11 01:03:44     425.00      failed        5      CA   \n",
       "162870  15000.0  2016-12-13 16:03:01  177496.11  successful     1166      US   \n",
       "158956   6000.0  2014-04-02 02:25:25    6490.00  successful       70      US   \n",
       "302622     50.0  2015-11-17 00:09:27       5.00      failed        1      US   \n",
       "120994  35000.0  2011-05-10 18:50:25    1922.00      failed       49      US   \n",
       "290698  18550.0  2014-06-06 01:47:21   10220.00      failed       10      US   \n",
       "333907   3500.0  2012-06-11 12:11:35    1068.00      failed       16      US   \n",
       "14455    5000.0  2015-02-05 21:24:07       0.00   suspended        0      US   \n",
       "\n",
       "        usd_pledged_real  usd_goal_real  \n",
       "88789              26.00        1200.00  \n",
       "132607          52256.76       15000.00  \n",
       "354341            315.02        7412.35  \n",
       "162870         177496.11       15000.00  \n",
       "158956           6490.00        6000.00  \n",
       "302622              5.00          50.00  \n",
       "120994           1922.00       35000.00  \n",
       "290698          10220.00       18550.00  \n",
       "333907           1068.00        3500.00  \n",
       "14455               0.00        5000.00  "
      ],
      "text/html": "<div>\n<style scoped>\n    .dataframe tbody tr th:only-of-type {\n        vertical-align: middle;\n    }\n\n    .dataframe tbody tr th {\n        vertical-align: top;\n    }\n\n    .dataframe thead th {\n        text-align: right;\n    }\n</style>\n<table border=\"1\" class=\"dataframe\">\n  <thead>\n    <tr style=\"text-align: right;\">\n      <th></th>\n      <th>ID</th>\n      <th>category</th>\n      <th>main_category</th>\n      <th>currency</th>\n      <th>deadline</th>\n      <th>goal</th>\n      <th>launched</th>\n      <th>pledged</th>\n      <th>state</th>\n      <th>backers</th>\n      <th>country</th>\n      <th>usd_pledged_real</th>\n      <th>usd_goal_real</th>\n    </tr>\n  </thead>\n  <tbody>\n    <tr>\n      <th>88789</th>\n      <td>1451321096</td>\n      <td>Fiction</td>\n      <td>Publishing</td>\n      <td>USD</td>\n      <td>2011-10-16</td>\n      <td>1200.0</td>\n      <td>2011-08-17 13:51:58</td>\n      <td>26.00</td>\n      <td>failed</td>\n      <td>2</td>\n      <td>US</td>\n      <td>26.00</td>\n      <td>1200.00</td>\n    </tr>\n    <tr>\n      <th>132607</th>\n      <td>1673007473</td>\n      <td>Tabletop Games</td>\n      <td>Games</td>\n      <td>USD</td>\n      <td>2012-07-01</td>\n      <td>15000.0</td>\n      <td>2012-05-30 16:03:41</td>\n      <td>52256.76</td>\n      <td>successful</td>\n      <td>582</td>\n      <td>US</td>\n      <td>52256.76</td>\n      <td>15000.00</td>\n    </tr>\n    <tr>\n      <th>354341</th>\n      <td>875214108</td>\n      <td>Documentary</td>\n      <td>Film &amp; Video</td>\n      <td>CAD</td>\n      <td>2016-11-10</td>\n      <td>10000.0</td>\n      <td>2016-10-11 01:03:44</td>\n      <td>425.00</td>\n      <td>failed</td>\n      <td>5</td>\n      <td>CA</td>\n      <td>315.02</td>\n      <td>7412.35</td>\n    </tr>\n    <tr>\n      <th>162870</th>\n      <td>1828533945</td>\n      <td>Product Design</td>\n      <td>Design</td>\n      <td>USD</td>\n      <td>2017-02-10</td>\n      <td>15000.0</td>\n      <td>2016-12-13 16:03:01</td>\n      <td>177496.11</td>\n      <td>successful</td>\n      <td>1166</td>\n      <td>US</td>\n      <td>177496.11</td>\n      <td>15000.00</td>\n    </tr>\n    <tr>\n      <th>158956</th>\n      <td>1808475754</td>\n      <td>Theater</td>\n      <td>Theater</td>\n      <td>USD</td>\n      <td>2014-05-02</td>\n      <td>6000.0</td>\n      <td>2014-04-02 02:25:25</td>\n      <td>6490.00</td>\n      <td>successful</td>\n      <td>70</td>\n      <td>US</td>\n      <td>6490.00</td>\n      <td>6000.00</td>\n    </tr>\n    <tr>\n      <th>302622</th>\n      <td>611016814</td>\n      <td>Film &amp; Video</td>\n      <td>Film &amp; Video</td>\n      <td>USD</td>\n      <td>2015-12-17</td>\n      <td>50.0</td>\n      <td>2015-11-17 00:09:27</td>\n      <td>5.00</td>\n      <td>failed</td>\n      <td>1</td>\n      <td>US</td>\n      <td>5.00</td>\n      <td>50.00</td>\n    </tr>\n    <tr>\n      <th>120994</th>\n      <td>1614576560</td>\n      <td>Theater</td>\n      <td>Theater</td>\n      <td>USD</td>\n      <td>2011-07-19</td>\n      <td>35000.0</td>\n      <td>2011-05-10 18:50:25</td>\n      <td>1922.00</td>\n      <td>failed</td>\n      <td>49</td>\n      <td>US</td>\n      <td>1922.00</td>\n      <td>35000.00</td>\n    </tr>\n    <tr>\n      <th>290698</th>\n      <td>54915628</td>\n      <td>Technology</td>\n      <td>Technology</td>\n      <td>USD</td>\n      <td>2014-07-06</td>\n      <td>18550.0</td>\n      <td>2014-06-06 01:47:21</td>\n      <td>10220.00</td>\n      <td>failed</td>\n      <td>10</td>\n      <td>US</td>\n      <td>10220.00</td>\n      <td>18550.00</td>\n    </tr>\n    <tr>\n      <th>333907</th>\n      <td>770898325</td>\n      <td>Fiction</td>\n      <td>Publishing</td>\n      <td>USD</td>\n      <td>2012-07-24</td>\n      <td>3500.0</td>\n      <td>2012-06-11 12:11:35</td>\n      <td>1068.00</td>\n      <td>failed</td>\n      <td>16</td>\n      <td>US</td>\n      <td>1068.00</td>\n      <td>3500.00</td>\n    </tr>\n    <tr>\n      <th>14455</th>\n      <td>1072736325</td>\n      <td>Crafts</td>\n      <td>Crafts</td>\n      <td>USD</td>\n      <td>2015-04-06</td>\n      <td>5000.0</td>\n      <td>2015-02-05 21:24:07</td>\n      <td>0.00</td>\n      <td>suspended</td>\n      <td>0</td>\n      <td>US</td>\n      <td>0.00</td>\n      <td>5000.00</td>\n    </tr>\n  </tbody>\n</table>\n</div>"
     },
     "metadata": {},
     "execution_count": 41
    }
   ],
   "source": [
    "df.sample(10)"
   ]
  },
  {
   "cell_type": "code",
   "execution_count": 45,
   "metadata": {},
   "outputs": [
    {
     "output_type": "execute_result",
     "data": {
      "text/plain": [
       "                ID         category main_category currency    deadline  \\\n",
       "331568   759249890  Performance Art           Art      GBP  2016-03-10   \n",
       "319034   695035337      Documentary  Film & Video      USD  2014-05-23   \n",
       "331698   759863177   Product Design        Design      USD  2017-06-01   \n",
       "320847   703772806     Mobile Games         Games      USD  2017-03-23   \n",
       "113819  1578104891          Fiction    Publishing      USD  2011-08-14   \n",
       "\n",
       "                   launched country       state  \n",
       "331568  2016-02-10 16:13:26      GB  successful  \n",
       "319034  2014-04-23 18:27:41      US      failed  \n",
       "331698  2017-05-05 02:58:51      US  successful  \n",
       "320847  2017-02-21 22:19:56      US      failed  \n",
       "113819  2011-07-15 23:06:34      US      failed  "
      ],
      "text/html": "<div>\n<style scoped>\n    .dataframe tbody tr th:only-of-type {\n        vertical-align: middle;\n    }\n\n    .dataframe tbody tr th {\n        vertical-align: top;\n    }\n\n    .dataframe thead th {\n        text-align: right;\n    }\n</style>\n<table border=\"1\" class=\"dataframe\">\n  <thead>\n    <tr style=\"text-align: right;\">\n      <th></th>\n      <th>ID</th>\n      <th>category</th>\n      <th>main_category</th>\n      <th>currency</th>\n      <th>deadline</th>\n      <th>launched</th>\n      <th>country</th>\n      <th>state</th>\n    </tr>\n  </thead>\n  <tbody>\n    <tr>\n      <th>331568</th>\n      <td>759249890</td>\n      <td>Performance Art</td>\n      <td>Art</td>\n      <td>GBP</td>\n      <td>2016-03-10</td>\n      <td>2016-02-10 16:13:26</td>\n      <td>GB</td>\n      <td>successful</td>\n    </tr>\n    <tr>\n      <th>319034</th>\n      <td>695035337</td>\n      <td>Documentary</td>\n      <td>Film &amp; Video</td>\n      <td>USD</td>\n      <td>2014-05-23</td>\n      <td>2014-04-23 18:27:41</td>\n      <td>US</td>\n      <td>failed</td>\n    </tr>\n    <tr>\n      <th>331698</th>\n      <td>759863177</td>\n      <td>Product Design</td>\n      <td>Design</td>\n      <td>USD</td>\n      <td>2017-06-01</td>\n      <td>2017-05-05 02:58:51</td>\n      <td>US</td>\n      <td>successful</td>\n    </tr>\n    <tr>\n      <th>320847</th>\n      <td>703772806</td>\n      <td>Mobile Games</td>\n      <td>Games</td>\n      <td>USD</td>\n      <td>2017-03-23</td>\n      <td>2017-02-21 22:19:56</td>\n      <td>US</td>\n      <td>failed</td>\n    </tr>\n    <tr>\n      <th>113819</th>\n      <td>1578104891</td>\n      <td>Fiction</td>\n      <td>Publishing</td>\n      <td>USD</td>\n      <td>2011-08-14</td>\n      <td>2011-07-15 23:06:34</td>\n      <td>US</td>\n      <td>failed</td>\n    </tr>\n  </tbody>\n</table>\n</div>"
     },
     "metadata": {},
     "execution_count": 45
    }
   ],
   "source": [
    "#removing data leakage columns\n",
    "\n",
    "df = df[['ID', 'category', 'main_category', 'currency', 'deadline', 'launched', 'country', 'state']]\n",
    "\n",
    "df.sample(5)"
   ]
  },
  {
   "cell_type": "markdown",
   "metadata": {},
   "source": [
    "## Data Exploration"
   ]
  },
  {
   "cell_type": "code",
   "execution_count": null,
   "metadata": {},
   "outputs": [],
   "source": [
    "# Descriptive statistics for key fields\n",
    "# Add visualizations (where applicable)"
   ]
  },
  {
   "cell_type": "markdown",
   "metadata": {},
   "source": [
    "## Baseline Model (Benchmark)"
   ]
  },
  {
   "cell_type": "code",
   "execution_count": null,
   "metadata": {},
   "outputs": [],
   "source": [
    "# Simple baseline model\n"
   ]
  },
  {
   "cell_type": "markdown",
   "metadata": {},
   "source": [
    "## Modeling Approach #1"
   ]
  },
  {
   "cell_type": "code",
   "execution_count": null,
   "metadata": {},
   "outputs": [],
   "source": []
  },
  {
   "cell_type": "markdown",
   "metadata": {},
   "source": [
    "## Modeling Approach #2"
   ]
  },
  {
   "cell_type": "code",
   "execution_count": null,
   "metadata": {},
   "outputs": [],
   "source": []
  },
  {
   "cell_type": "markdown",
   "metadata": {},
   "source": [
    "## Hyper-parameter Tuning for Best Model"
   ]
  },
  {
   "cell_type": "code",
   "execution_count": null,
   "metadata": {},
   "outputs": [],
   "source": []
  },
  {
   "cell_type": "markdown",
   "metadata": {},
   "source": [
    "## Save Final Model"
   ]
  },
  {
   "cell_type": "code",
   "execution_count": null,
   "metadata": {},
   "outputs": [],
   "source": [
    "import joblib\n",
    "\n",
    "joblib.dump(model, '../models/model_name.joblib')"
   ]
  }
 ],
 "metadata": {
  "kernelspec": {
   "name": "python3",
   "display_name": "Python 3.8.0 64-bit ('kickstarter-success': pipenv)",
   "metadata": {
    "interpreter": {
     "hash": "ebde07714c946797f80d2eb65046de0aaaa7964d512aeda8d8c11a98861fc834"
    }
   }
  },
  "language_info": {
   "codemirror_mode": {
    "name": "ipython",
    "version": 3
   },
   "file_extension": ".py",
   "mimetype": "text/x-python",
   "name": "python",
   "nbconvert_exporter": "python",
   "pygments_lexer": "ipython3",
   "version": "3.8.0-final"
  }
 },
 "nbformat": 4,
 "nbformat_minor": 4
}
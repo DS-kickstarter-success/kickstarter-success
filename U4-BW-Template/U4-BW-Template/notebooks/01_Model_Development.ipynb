{
 "cells": [
  {
   "cell_type": "markdown",
   "metadata": {},
   "source": [
    "# BW Project Title\n",
    "\n",
    "## Team Members\n",
    "- Zack Snyder\n",
    "\n",
    "## Project Description\n",
    "This model will utilize data from the Kaggle kickstarter dataset to predict whether a kickstarter project will be successful. "
   ]
  },
  {
   "cell_type": "code",
   "execution_count": 17,
   "metadata": {},
   "outputs": [
    {
     "output_type": "stream",
     "name": "stdout",
     "text": [
      "Numpy Version: 1.19.5\nTensorflow Version: 2.4.1\nPandas Version: 1.2.2\nsklearn Version: 0.24.1\nseaborn Version: 0.11.1\n"
     ]
    }
   ],
   "source": [
    "# Import required packages\n",
    "import numpy as np\n",
    "import tensorflow as tf\n",
    "import pandas as pd\n",
    "import sklearn\n",
    "import seaborn as sns\n",
    "\n",
    "print(f'Numpy Version: {np.__version__}')\n",
    "print(f'Tensorflow Version: {tf.__version__}')\n",
    "print(f'Pandas Version: {pd.__version__}')\n",
    "print(f'sklearn Version: {sklearn.__version__}')\n",
    "print(f'seaborn Version: {sns.__version__}')"
   ]
  },
  {
   "cell_type": "markdown",
   "metadata": {},
   "source": [
    "## Load Data"
   ]
  },
  {
   "cell_type": "code",
   "execution_count": 2,
   "metadata": {},
   "outputs": [
    {
     "output_type": "execute_result",
     "data": {
      "text/plain": [
       "                 ID                                               name   \\\n",
       "153970  1.914946e+09                                           PLUS ONE   \n",
       "26526   1.157279e+09                        EarnMoneyOnChess (Canceled)   \n",
       "189867  2.130637e+09               Oldies but Goodies: Restoring \"Rudy\"   \n",
       "152529  1.906582e+09                                     Project Tennis   \n",
       "327667           NaN                                                NaN   \n",
       "124997  1.742344e+08    A Journey Through A Young Boy's Life (Canceled)   \n",
       "77739   1.461841e+09  Noble Breads : A Micro Bakery in Phoenix, Arizona   \n",
       "90084   1.535353e+09  JD and Friends' Second Children's Book Wishes ...   \n",
       "229334  4.335950e+08              250 Years/250 People: Windsor Vermont   \n",
       "50431   1.299499e+09      I'll Be Seeing You (A USC Student Production)   \n",
       "\n",
       "               category  main_category  currency             deadline   \\\n",
       "153970      Film & Video   Film & Video       USD  2013-03-09 01:04:45   \n",
       "26526              Games          Games       SEK  2016-05-24 08:21:08   \n",
       "189867       Food Trucks           Food       USD  2014-10-02 04:48:55   \n",
       "152529        Live Games          Games       USD  2015-03-04 20:04:37   \n",
       "327667               NaN            NaN       NaN                  NaN   \n",
       "124997            Shorts   Film & Video       USD  2011-12-17 17:17:34   \n",
       "77739               Food           Food       USD  2012-08-02 18:31:25   \n",
       "90084   Children's Books     Publishing       USD  2014-10-01 02:00:00   \n",
       "229334       Photography    Photography       USD  2011-04-08 03:20:19   \n",
       "50431     Narrative Film   Film & Video       USD  2010-10-21 06:18:58   \n",
       "\n",
       "         goal             launched  pledged       state   ...    deadline  \\\n",
       "153970    1301  2013-02-07 01:04:45     1402  successful  ...  2015-04-16   \n",
       "26526   263750  2016-05-04 08:21:08        0    canceled  ...  2017-01-22   \n",
       "189867   35000  2014-09-02 04:48:55    15334      failed  ...  2017-07-01   \n",
       "152529   25000  2015-02-02 20:04:37        2      failed  ...  2017-11-29   \n",
       "327667     NaN                  NaN      NaN         NaN  ...  2012-02-17   \n",
       "124997    3000  2011-10-18 17:17:34        0    canceled  ...  2017-09-03   \n",
       "77739    20000  2012-07-03 18:31:25    20403  successful  ...  2016-12-25   \n",
       "90084     2500  2014-08-27 18:10:00      125      failed  ...  2012-08-09   \n",
       "229334   10000  2011-03-08 03:20:19    10686  successful  ...  2016-04-14   \n",
       "50431      750  2010-09-06 06:18:58  1040.04  successful  ...  2014-03-28   \n",
       "\n",
       "           goal             launched   pledged       state backers  country  \\\n",
       "153970  90000.0  2015-02-15 22:05:44      0.00      failed       0       US   \n",
       "26526    4500.0  2016-12-23 19:08:37  20879.00  successful     468       US   \n",
       "189867  22000.0  2017-05-31 06:04:05   9084.00    canceled     187       US   \n",
       "152529  14000.0  2017-10-23 11:43:41   9274.00      failed     273       US   \n",
       "327667    100.0  2012-02-07 22:20:34    100.00  successful       3       US   \n",
       "124997    800.0  2017-07-20 04:17:46     56.00      failed       4       US   \n",
       "77739    4907.0  2016-11-10 18:50:13    100.00      failed       1       GB   \n",
       "90084   30000.0  2012-07-10 14:57:07    580.00    canceled       7       US   \n",
       "229334   4000.0  2016-02-14 22:12:48   4020.22   undefined       0     N,0\"   \n",
       "50431   50000.0  2014-02-26 02:36:12   2519.00      failed      34       US   \n",
       "\n",
       "        usd pledged usd_pledged_real usd_goal_real  \n",
       "153970          0.0             0.00      90000.00  \n",
       "26526        1732.0         20879.00       4500.00  \n",
       "189867       3245.0          9084.00      22000.00  \n",
       "152529       6141.0          9274.00      14000.00  \n",
       "327667        100.0           100.00        100.00  \n",
       "124997          0.0            56.00        800.00  \n",
       "77739           0.0           123.12       6041.32  \n",
       "90084         580.0           580.00      30000.00  \n",
       "229334          NaN          4020.22       4000.00  \n",
       "50431        2519.0          2519.00      50000.00  \n",
       "\n",
       "[10 rows x 32 columns]"
      ],
      "text/html": "<div>\n<style scoped>\n    .dataframe tbody tr th:only-of-type {\n        vertical-align: middle;\n    }\n\n    .dataframe tbody tr th {\n        vertical-align: top;\n    }\n\n    .dataframe thead th {\n        text-align: right;\n    }\n</style>\n<table border=\"1\" class=\"dataframe\">\n  <thead>\n    <tr style=\"text-align: right;\">\n      <th></th>\n      <th>ID</th>\n      <th>name</th>\n      <th>category</th>\n      <th>main_category</th>\n      <th>currency</th>\n      <th>deadline</th>\n      <th>goal</th>\n      <th>launched</th>\n      <th>pledged</th>\n      <th>state</th>\n      <th>...</th>\n      <th>deadline</th>\n      <th>goal</th>\n      <th>launched</th>\n      <th>pledged</th>\n      <th>state</th>\n      <th>backers</th>\n      <th>country</th>\n      <th>usd pledged</th>\n      <th>usd_pledged_real</th>\n      <th>usd_goal_real</th>\n    </tr>\n  </thead>\n  <tbody>\n    <tr>\n      <th>153970</th>\n      <td>1.914946e+09</td>\n      <td>PLUS ONE</td>\n      <td>Film &amp; Video</td>\n      <td>Film &amp; Video</td>\n      <td>USD</td>\n      <td>2013-03-09 01:04:45</td>\n      <td>1301</td>\n      <td>2013-02-07 01:04:45</td>\n      <td>1402</td>\n      <td>successful</td>\n      <td>...</td>\n      <td>2015-04-16</td>\n      <td>90000.0</td>\n      <td>2015-02-15 22:05:44</td>\n      <td>0.00</td>\n      <td>failed</td>\n      <td>0</td>\n      <td>US</td>\n      <td>0.0</td>\n      <td>0.00</td>\n      <td>90000.00</td>\n    </tr>\n    <tr>\n      <th>26526</th>\n      <td>1.157279e+09</td>\n      <td>EarnMoneyOnChess (Canceled)</td>\n      <td>Games</td>\n      <td>Games</td>\n      <td>SEK</td>\n      <td>2016-05-24 08:21:08</td>\n      <td>263750</td>\n      <td>2016-05-04 08:21:08</td>\n      <td>0</td>\n      <td>canceled</td>\n      <td>...</td>\n      <td>2017-01-22</td>\n      <td>4500.0</td>\n      <td>2016-12-23 19:08:37</td>\n      <td>20879.00</td>\n      <td>successful</td>\n      <td>468</td>\n      <td>US</td>\n      <td>1732.0</td>\n      <td>20879.00</td>\n      <td>4500.00</td>\n    </tr>\n    <tr>\n      <th>189867</th>\n      <td>2.130637e+09</td>\n      <td>Oldies but Goodies: Restoring \"Rudy\"</td>\n      <td>Food Trucks</td>\n      <td>Food</td>\n      <td>USD</td>\n      <td>2014-10-02 04:48:55</td>\n      <td>35000</td>\n      <td>2014-09-02 04:48:55</td>\n      <td>15334</td>\n      <td>failed</td>\n      <td>...</td>\n      <td>2017-07-01</td>\n      <td>22000.0</td>\n      <td>2017-05-31 06:04:05</td>\n      <td>9084.00</td>\n      <td>canceled</td>\n      <td>187</td>\n      <td>US</td>\n      <td>3245.0</td>\n      <td>9084.00</td>\n      <td>22000.00</td>\n    </tr>\n    <tr>\n      <th>152529</th>\n      <td>1.906582e+09</td>\n      <td>Project Tennis</td>\n      <td>Live Games</td>\n      <td>Games</td>\n      <td>USD</td>\n      <td>2015-03-04 20:04:37</td>\n      <td>25000</td>\n      <td>2015-02-02 20:04:37</td>\n      <td>2</td>\n      <td>failed</td>\n      <td>...</td>\n      <td>2017-11-29</td>\n      <td>14000.0</td>\n      <td>2017-10-23 11:43:41</td>\n      <td>9274.00</td>\n      <td>failed</td>\n      <td>273</td>\n      <td>US</td>\n      <td>6141.0</td>\n      <td>9274.00</td>\n      <td>14000.00</td>\n    </tr>\n    <tr>\n      <th>327667</th>\n      <td>NaN</td>\n      <td>NaN</td>\n      <td>NaN</td>\n      <td>NaN</td>\n      <td>NaN</td>\n      <td>NaN</td>\n      <td>NaN</td>\n      <td>NaN</td>\n      <td>NaN</td>\n      <td>NaN</td>\n      <td>...</td>\n      <td>2012-02-17</td>\n      <td>100.0</td>\n      <td>2012-02-07 22:20:34</td>\n      <td>100.00</td>\n      <td>successful</td>\n      <td>3</td>\n      <td>US</td>\n      <td>100.0</td>\n      <td>100.00</td>\n      <td>100.00</td>\n    </tr>\n    <tr>\n      <th>124997</th>\n      <td>1.742344e+08</td>\n      <td>A Journey Through A Young Boy's Life (Canceled)</td>\n      <td>Shorts</td>\n      <td>Film &amp; Video</td>\n      <td>USD</td>\n      <td>2011-12-17 17:17:34</td>\n      <td>3000</td>\n      <td>2011-10-18 17:17:34</td>\n      <td>0</td>\n      <td>canceled</td>\n      <td>...</td>\n      <td>2017-09-03</td>\n      <td>800.0</td>\n      <td>2017-07-20 04:17:46</td>\n      <td>56.00</td>\n      <td>failed</td>\n      <td>4</td>\n      <td>US</td>\n      <td>0.0</td>\n      <td>56.00</td>\n      <td>800.00</td>\n    </tr>\n    <tr>\n      <th>77739</th>\n      <td>1.461841e+09</td>\n      <td>Noble Breads : A Micro Bakery in Phoenix, Arizona</td>\n      <td>Food</td>\n      <td>Food</td>\n      <td>USD</td>\n      <td>2012-08-02 18:31:25</td>\n      <td>20000</td>\n      <td>2012-07-03 18:31:25</td>\n      <td>20403</td>\n      <td>successful</td>\n      <td>...</td>\n      <td>2016-12-25</td>\n      <td>4907.0</td>\n      <td>2016-11-10 18:50:13</td>\n      <td>100.00</td>\n      <td>failed</td>\n      <td>1</td>\n      <td>GB</td>\n      <td>0.0</td>\n      <td>123.12</td>\n      <td>6041.32</td>\n    </tr>\n    <tr>\n      <th>90084</th>\n      <td>1.535353e+09</td>\n      <td>JD and Friends' Second Children's Book Wishes ...</td>\n      <td>Children's Books</td>\n      <td>Publishing</td>\n      <td>USD</td>\n      <td>2014-10-01 02:00:00</td>\n      <td>2500</td>\n      <td>2014-08-27 18:10:00</td>\n      <td>125</td>\n      <td>failed</td>\n      <td>...</td>\n      <td>2012-08-09</td>\n      <td>30000.0</td>\n      <td>2012-07-10 14:57:07</td>\n      <td>580.00</td>\n      <td>canceled</td>\n      <td>7</td>\n      <td>US</td>\n      <td>580.0</td>\n      <td>580.00</td>\n      <td>30000.00</td>\n    </tr>\n    <tr>\n      <th>229334</th>\n      <td>4.335950e+08</td>\n      <td>250 Years/250 People: Windsor Vermont</td>\n      <td>Photography</td>\n      <td>Photography</td>\n      <td>USD</td>\n      <td>2011-04-08 03:20:19</td>\n      <td>10000</td>\n      <td>2011-03-08 03:20:19</td>\n      <td>10686</td>\n      <td>successful</td>\n      <td>...</td>\n      <td>2016-04-14</td>\n      <td>4000.0</td>\n      <td>2016-02-14 22:12:48</td>\n      <td>4020.22</td>\n      <td>undefined</td>\n      <td>0</td>\n      <td>N,0\"</td>\n      <td>NaN</td>\n      <td>4020.22</td>\n      <td>4000.00</td>\n    </tr>\n    <tr>\n      <th>50431</th>\n      <td>1.299499e+09</td>\n      <td>I'll Be Seeing You (A USC Student Production)</td>\n      <td>Narrative Film</td>\n      <td>Film &amp; Video</td>\n      <td>USD</td>\n      <td>2010-10-21 06:18:58</td>\n      <td>750</td>\n      <td>2010-09-06 06:18:58</td>\n      <td>1040.04</td>\n      <td>successful</td>\n      <td>...</td>\n      <td>2014-03-28</td>\n      <td>50000.0</td>\n      <td>2014-02-26 02:36:12</td>\n      <td>2519.00</td>\n      <td>failed</td>\n      <td>34</td>\n      <td>US</td>\n      <td>2519.0</td>\n      <td>2519.00</td>\n      <td>50000.00</td>\n    </tr>\n  </tbody>\n</table>\n<p>10 rows × 32 columns</p>\n</div>"
     },
     "metadata": {},
     "execution_count": 2
    }
   ],
   "source": [
    "df1 = pd.read_csv(r'C:\\Users\\zacks\\repos\\kickstarter-success\\U4-BW-Template\\U4-BW-Template\\data\\ks-projects-201612.csv')\n",
    "df2 = pd.read_csv(r'C:\\Users\\zacks\\repos\\kickstarter-success\\U4-BW-Template\\U4-BW-Template\\data\\ks-projects-201801.csv')\n",
    "df = pd.concat([df1, df2], axis=1)\n",
    "df.sample(10)"
   ]
  },
  {
   "cell_type": "code",
   "execution_count": 3,
   "metadata": {},
   "outputs": [
    {
     "output_type": "execute_result",
     "data": {
      "text/plain": [
       "(378661, 13)"
      ]
     },
     "metadata": {},
     "execution_count": 3
    }
   ],
   "source": [
    "df = df.dropna(axis=1)\n",
    "df.shape"
   ]
  },
  {
   "cell_type": "code",
   "execution_count": 4,
   "metadata": {},
   "outputs": [
    {
     "output_type": "execute_result",
     "data": {
      "text/plain": [
       "                ID      category main_category currency    deadline     goal  \\\n",
       "62413   1317317751          Punk         Music      USD  2016-06-18   1000.0   \n",
       "223720  2139827605   Documentary  Film & Video      USD  2014-11-17  20000.0   \n",
       "350872   857497735       Hip-Hop         Music      GBP  2014-05-23    500.0   \n",
       "241314    29735126       Theater       Theater      USD  2013-05-14  25000.0   \n",
       "250591   344612542  Illustration           Art      GBP  2015-03-26     50.0   \n",
       "70429   1358562795        Design        Design      USD  2013-01-31  35000.0   \n",
       "191955  1976693331          Jazz         Music      USD  2013-10-28   2500.0   \n",
       "295596   574510424       Fashion       Fashion      USD  2011-12-05   8500.0   \n",
       "270185   444773097         Games         Games      USD  2012-04-22    750.0   \n",
       "356619   886533483          Rock         Music      USD  2015-07-01   6100.0   \n",
       "\n",
       "                   launched   pledged       state  backers country  \\\n",
       "62413   2016-04-29 15:58:07   1375.66  successful       54      US   \n",
       "223720  2014-10-18 02:05:38    775.00      failed       14      US   \n",
       "350872  2014-03-24 19:52:34     45.00      failed        2      GB   \n",
       "241314  2013-04-09 02:39:51  25920.00  successful      208      US   \n",
       "250591  2015-01-25 16:35:25      4.00    canceled        1      GB   \n",
       "70429   2012-12-17 02:12:57  41505.00  successful      607      US   \n",
       "191955  2013-09-23 22:24:40   2780.69  successful       68      US   \n",
       "295596  2011-11-17 21:50:20   8981.00  successful       33      US   \n",
       "270185  2012-03-08 18:53:10    311.00      failed        9      US   \n",
       "356619  2015-06-01 23:30:53   6368.00  successful       88      US   \n",
       "\n",
       "        usd_pledged_real  usd_goal_real  \n",
       "62413            1375.66        1000.00  \n",
       "223720            775.00       20000.00  \n",
       "350872             75.78         842.03  \n",
       "241314          25920.00       25000.00  \n",
       "250591              5.95          74.38  \n",
       "70429           41505.00       35000.00  \n",
       "191955           2780.69        2500.00  \n",
       "295596           8981.00        8500.00  \n",
       "270185            311.00         750.00  \n",
       "356619           6368.00        6100.00  "
      ],
      "text/html": "<div>\n<style scoped>\n    .dataframe tbody tr th:only-of-type {\n        vertical-align: middle;\n    }\n\n    .dataframe tbody tr th {\n        vertical-align: top;\n    }\n\n    .dataframe thead th {\n        text-align: right;\n    }\n</style>\n<table border=\"1\" class=\"dataframe\">\n  <thead>\n    <tr style=\"text-align: right;\">\n      <th></th>\n      <th>ID</th>\n      <th>category</th>\n      <th>main_category</th>\n      <th>currency</th>\n      <th>deadline</th>\n      <th>goal</th>\n      <th>launched</th>\n      <th>pledged</th>\n      <th>state</th>\n      <th>backers</th>\n      <th>country</th>\n      <th>usd_pledged_real</th>\n      <th>usd_goal_real</th>\n    </tr>\n  </thead>\n  <tbody>\n    <tr>\n      <th>62413</th>\n      <td>1317317751</td>\n      <td>Punk</td>\n      <td>Music</td>\n      <td>USD</td>\n      <td>2016-06-18</td>\n      <td>1000.0</td>\n      <td>2016-04-29 15:58:07</td>\n      <td>1375.66</td>\n      <td>successful</td>\n      <td>54</td>\n      <td>US</td>\n      <td>1375.66</td>\n      <td>1000.00</td>\n    </tr>\n    <tr>\n      <th>223720</th>\n      <td>2139827605</td>\n      <td>Documentary</td>\n      <td>Film &amp; Video</td>\n      <td>USD</td>\n      <td>2014-11-17</td>\n      <td>20000.0</td>\n      <td>2014-10-18 02:05:38</td>\n      <td>775.00</td>\n      <td>failed</td>\n      <td>14</td>\n      <td>US</td>\n      <td>775.00</td>\n      <td>20000.00</td>\n    </tr>\n    <tr>\n      <th>350872</th>\n      <td>857497735</td>\n      <td>Hip-Hop</td>\n      <td>Music</td>\n      <td>GBP</td>\n      <td>2014-05-23</td>\n      <td>500.0</td>\n      <td>2014-03-24 19:52:34</td>\n      <td>45.00</td>\n      <td>failed</td>\n      <td>2</td>\n      <td>GB</td>\n      <td>75.78</td>\n      <td>842.03</td>\n    </tr>\n    <tr>\n      <th>241314</th>\n      <td>29735126</td>\n      <td>Theater</td>\n      <td>Theater</td>\n      <td>USD</td>\n      <td>2013-05-14</td>\n      <td>25000.0</td>\n      <td>2013-04-09 02:39:51</td>\n      <td>25920.00</td>\n      <td>successful</td>\n      <td>208</td>\n      <td>US</td>\n      <td>25920.00</td>\n      <td>25000.00</td>\n    </tr>\n    <tr>\n      <th>250591</th>\n      <td>344612542</td>\n      <td>Illustration</td>\n      <td>Art</td>\n      <td>GBP</td>\n      <td>2015-03-26</td>\n      <td>50.0</td>\n      <td>2015-01-25 16:35:25</td>\n      <td>4.00</td>\n      <td>canceled</td>\n      <td>1</td>\n      <td>GB</td>\n      <td>5.95</td>\n      <td>74.38</td>\n    </tr>\n    <tr>\n      <th>70429</th>\n      <td>1358562795</td>\n      <td>Design</td>\n      <td>Design</td>\n      <td>USD</td>\n      <td>2013-01-31</td>\n      <td>35000.0</td>\n      <td>2012-12-17 02:12:57</td>\n      <td>41505.00</td>\n      <td>successful</td>\n      <td>607</td>\n      <td>US</td>\n      <td>41505.00</td>\n      <td>35000.00</td>\n    </tr>\n    <tr>\n      <th>191955</th>\n      <td>1976693331</td>\n      <td>Jazz</td>\n      <td>Music</td>\n      <td>USD</td>\n      <td>2013-10-28</td>\n      <td>2500.0</td>\n      <td>2013-09-23 22:24:40</td>\n      <td>2780.69</td>\n      <td>successful</td>\n      <td>68</td>\n      <td>US</td>\n      <td>2780.69</td>\n      <td>2500.00</td>\n    </tr>\n    <tr>\n      <th>295596</th>\n      <td>574510424</td>\n      <td>Fashion</td>\n      <td>Fashion</td>\n      <td>USD</td>\n      <td>2011-12-05</td>\n      <td>8500.0</td>\n      <td>2011-11-17 21:50:20</td>\n      <td>8981.00</td>\n      <td>successful</td>\n      <td>33</td>\n      <td>US</td>\n      <td>8981.00</td>\n      <td>8500.00</td>\n    </tr>\n    <tr>\n      <th>270185</th>\n      <td>444773097</td>\n      <td>Games</td>\n      <td>Games</td>\n      <td>USD</td>\n      <td>2012-04-22</td>\n      <td>750.0</td>\n      <td>2012-03-08 18:53:10</td>\n      <td>311.00</td>\n      <td>failed</td>\n      <td>9</td>\n      <td>US</td>\n      <td>311.00</td>\n      <td>750.00</td>\n    </tr>\n    <tr>\n      <th>356619</th>\n      <td>886533483</td>\n      <td>Rock</td>\n      <td>Music</td>\n      <td>USD</td>\n      <td>2015-07-01</td>\n      <td>6100.0</td>\n      <td>2015-06-01 23:30:53</td>\n      <td>6368.00</td>\n      <td>successful</td>\n      <td>88</td>\n      <td>US</td>\n      <td>6368.00</td>\n      <td>6100.00</td>\n    </tr>\n  </tbody>\n</table>\n</div>"
     },
     "metadata": {},
     "execution_count": 4
    }
   ],
   "source": [
    "df.sample(10)"
   ]
  },
  {
   "cell_type": "code",
   "execution_count": 5,
   "metadata": {},
   "outputs": [
    {
     "output_type": "execute_result",
     "data": {
      "text/plain": [
       "(339882, 13)"
      ]
     },
     "metadata": {},
     "execution_count": 5
    }
   ],
   "source": [
    "df = df[df['state'] != 'canceled']\n",
    "\n",
    "df.shape"
   ]
  },
  {
   "cell_type": "code",
   "execution_count": 6,
   "metadata": {},
   "outputs": [
    {
     "output_type": "execute_result",
     "data": {
      "text/plain": [
       "                ID        category main_category currency    deadline  \\\n",
       "68993   1351215058  Graphic Novels        Comics      USD  2015-05-04   \n",
       "242010   300896998         Fashion       Fashion      USD  2012-09-27   \n",
       "51290   1261192581            Rock         Music      USD  2014-04-03   \n",
       "44258   1224987066  Graphic Design        Design      USD  2016-11-19   \n",
       "74042   1377243995         Fiction    Publishing      USD  2013-07-24   \n",
       "54186   1275749903          Spaces         Dance      USD  2015-04-30   \n",
       "188781  1960625015          Crafts        Crafts      EUR  2015-12-23   \n",
       "28426   1144240467       Webseries  Film & Video      USD  2012-03-17   \n",
       "131166  1665800298  Country & Folk         Music      USD  2013-07-05   \n",
       "262264   403987766     Comic Books        Comics      USD  2017-05-13   \n",
       "\n",
       "            goal             launched   pledged       state  backers country  \\\n",
       "68993     4800.0  2015-04-04 21:15:13   6515.00  successful      176      US   \n",
       "242010   22000.0  2012-08-28 18:30:58  24519.46  successful      279      US   \n",
       "51290     1599.0  2014-03-18 15:02:16   1604.00  successful       18      US   \n",
       "44258      400.0  2016-11-05 00:44:27    510.00  successful       15      US   \n",
       "74042     1200.0  2013-06-24 23:01:28   1975.00  successful       31      US   \n",
       "54186     5000.0  2015-03-26 18:56:53     10.00      failed        1      US   \n",
       "188781  100000.0  2015-10-24 05:45:40      0.00      failed        0      FR   \n",
       "28426     1250.0  2012-01-17 13:54:32    151.00      failed        2      US   \n",
       "131166    3000.0  2013-06-07 18:56:24   5127.00  successful      108      US   \n",
       "262264    3500.0  2017-03-14 16:01:13   4127.00  successful      157      US   \n",
       "\n",
       "        usd_pledged_real  usd_goal_real  \n",
       "68993            6515.00        4800.00  \n",
       "242010          24519.46       22000.00  \n",
       "51290            1604.00        1599.00  \n",
       "44258             510.00         400.00  \n",
       "74042            1975.00        1200.00  \n",
       "54186              10.00        5000.00  \n",
       "188781              0.00      109470.27  \n",
       "28426             151.00        1250.00  \n",
       "131166           5127.00        3000.00  \n",
       "262264           4127.00        3500.00  "
      ],
      "text/html": "<div>\n<style scoped>\n    .dataframe tbody tr th:only-of-type {\n        vertical-align: middle;\n    }\n\n    .dataframe tbody tr th {\n        vertical-align: top;\n    }\n\n    .dataframe thead th {\n        text-align: right;\n    }\n</style>\n<table border=\"1\" class=\"dataframe\">\n  <thead>\n    <tr style=\"text-align: right;\">\n      <th></th>\n      <th>ID</th>\n      <th>category</th>\n      <th>main_category</th>\n      <th>currency</th>\n      <th>deadline</th>\n      <th>goal</th>\n      <th>launched</th>\n      <th>pledged</th>\n      <th>state</th>\n      <th>backers</th>\n      <th>country</th>\n      <th>usd_pledged_real</th>\n      <th>usd_goal_real</th>\n    </tr>\n  </thead>\n  <tbody>\n    <tr>\n      <th>68993</th>\n      <td>1351215058</td>\n      <td>Graphic Novels</td>\n      <td>Comics</td>\n      <td>USD</td>\n      <td>2015-05-04</td>\n      <td>4800.0</td>\n      <td>2015-04-04 21:15:13</td>\n      <td>6515.00</td>\n      <td>successful</td>\n      <td>176</td>\n      <td>US</td>\n      <td>6515.00</td>\n      <td>4800.00</td>\n    </tr>\n    <tr>\n      <th>242010</th>\n      <td>300896998</td>\n      <td>Fashion</td>\n      <td>Fashion</td>\n      <td>USD</td>\n      <td>2012-09-27</td>\n      <td>22000.0</td>\n      <td>2012-08-28 18:30:58</td>\n      <td>24519.46</td>\n      <td>successful</td>\n      <td>279</td>\n      <td>US</td>\n      <td>24519.46</td>\n      <td>22000.00</td>\n    </tr>\n    <tr>\n      <th>51290</th>\n      <td>1261192581</td>\n      <td>Rock</td>\n      <td>Music</td>\n      <td>USD</td>\n      <td>2014-04-03</td>\n      <td>1599.0</td>\n      <td>2014-03-18 15:02:16</td>\n      <td>1604.00</td>\n      <td>successful</td>\n      <td>18</td>\n      <td>US</td>\n      <td>1604.00</td>\n      <td>1599.00</td>\n    </tr>\n    <tr>\n      <th>44258</th>\n      <td>1224987066</td>\n      <td>Graphic Design</td>\n      <td>Design</td>\n      <td>USD</td>\n      <td>2016-11-19</td>\n      <td>400.0</td>\n      <td>2016-11-05 00:44:27</td>\n      <td>510.00</td>\n      <td>successful</td>\n      <td>15</td>\n      <td>US</td>\n      <td>510.00</td>\n      <td>400.00</td>\n    </tr>\n    <tr>\n      <th>74042</th>\n      <td>1377243995</td>\n      <td>Fiction</td>\n      <td>Publishing</td>\n      <td>USD</td>\n      <td>2013-07-24</td>\n      <td>1200.0</td>\n      <td>2013-06-24 23:01:28</td>\n      <td>1975.00</td>\n      <td>successful</td>\n      <td>31</td>\n      <td>US</td>\n      <td>1975.00</td>\n      <td>1200.00</td>\n    </tr>\n    <tr>\n      <th>54186</th>\n      <td>1275749903</td>\n      <td>Spaces</td>\n      <td>Dance</td>\n      <td>USD</td>\n      <td>2015-04-30</td>\n      <td>5000.0</td>\n      <td>2015-03-26 18:56:53</td>\n      <td>10.00</td>\n      <td>failed</td>\n      <td>1</td>\n      <td>US</td>\n      <td>10.00</td>\n      <td>5000.00</td>\n    </tr>\n    <tr>\n      <th>188781</th>\n      <td>1960625015</td>\n      <td>Crafts</td>\n      <td>Crafts</td>\n      <td>EUR</td>\n      <td>2015-12-23</td>\n      <td>100000.0</td>\n      <td>2015-10-24 05:45:40</td>\n      <td>0.00</td>\n      <td>failed</td>\n      <td>0</td>\n      <td>FR</td>\n      <td>0.00</td>\n      <td>109470.27</td>\n    </tr>\n    <tr>\n      <th>28426</th>\n      <td>1144240467</td>\n      <td>Webseries</td>\n      <td>Film &amp; Video</td>\n      <td>USD</td>\n      <td>2012-03-17</td>\n      <td>1250.0</td>\n      <td>2012-01-17 13:54:32</td>\n      <td>151.00</td>\n      <td>failed</td>\n      <td>2</td>\n      <td>US</td>\n      <td>151.00</td>\n      <td>1250.00</td>\n    </tr>\n    <tr>\n      <th>131166</th>\n      <td>1665800298</td>\n      <td>Country &amp; Folk</td>\n      <td>Music</td>\n      <td>USD</td>\n      <td>2013-07-05</td>\n      <td>3000.0</td>\n      <td>2013-06-07 18:56:24</td>\n      <td>5127.00</td>\n      <td>successful</td>\n      <td>108</td>\n      <td>US</td>\n      <td>5127.00</td>\n      <td>3000.00</td>\n    </tr>\n    <tr>\n      <th>262264</th>\n      <td>403987766</td>\n      <td>Comic Books</td>\n      <td>Comics</td>\n      <td>USD</td>\n      <td>2017-05-13</td>\n      <td>3500.0</td>\n      <td>2017-03-14 16:01:13</td>\n      <td>4127.00</td>\n      <td>successful</td>\n      <td>157</td>\n      <td>US</td>\n      <td>4127.00</td>\n      <td>3500.00</td>\n    </tr>\n  </tbody>\n</table>\n</div>"
     },
     "metadata": {},
     "execution_count": 6
    }
   ],
   "source": [
    "df.sample(10)"
   ]
  },
  {
   "cell_type": "code",
   "execution_count": 7,
   "metadata": {},
   "outputs": [
    {
     "output_type": "execute_result",
     "data": {
      "text/plain": [
       "            category main_category currency    deadline             launched  \\\n",
       "129996  Film & Video  Film & Video      USD  2016-07-02  2016-06-02 22:56:55   \n",
       "107147         Music         Music      USD  2016-01-06  2015-12-07 18:31:10   \n",
       "209880   Documentary  Film & Video      USD  2011-03-23  2011-01-22 07:13:42   \n",
       "368235   Documentary  Film & Video      USD  2012-05-05  2012-03-21 00:03:35   \n",
       "289092  Film & Video  Film & Video      USD  2016-01-17  2015-12-18 00:05:20   \n",
       "\n",
       "       country      state     goal  \n",
       "129996      US     failed   5000.0  \n",
       "107147    N,0\"  undefined   5000.0  \n",
       "209880      US     failed   6000.0  \n",
       "368235      US     failed  18000.0  \n",
       "289092      US     failed  19000.0  "
      ],
      "text/html": "<div>\n<style scoped>\n    .dataframe tbody tr th:only-of-type {\n        vertical-align: middle;\n    }\n\n    .dataframe tbody tr th {\n        vertical-align: top;\n    }\n\n    .dataframe thead th {\n        text-align: right;\n    }\n</style>\n<table border=\"1\" class=\"dataframe\">\n  <thead>\n    <tr style=\"text-align: right;\">\n      <th></th>\n      <th>category</th>\n      <th>main_category</th>\n      <th>currency</th>\n      <th>deadline</th>\n      <th>launched</th>\n      <th>country</th>\n      <th>state</th>\n      <th>goal</th>\n    </tr>\n  </thead>\n  <tbody>\n    <tr>\n      <th>129996</th>\n      <td>Film &amp; Video</td>\n      <td>Film &amp; Video</td>\n      <td>USD</td>\n      <td>2016-07-02</td>\n      <td>2016-06-02 22:56:55</td>\n      <td>US</td>\n      <td>failed</td>\n      <td>5000.0</td>\n    </tr>\n    <tr>\n      <th>107147</th>\n      <td>Music</td>\n      <td>Music</td>\n      <td>USD</td>\n      <td>2016-01-06</td>\n      <td>2015-12-07 18:31:10</td>\n      <td>N,0\"</td>\n      <td>undefined</td>\n      <td>5000.0</td>\n    </tr>\n    <tr>\n      <th>209880</th>\n      <td>Documentary</td>\n      <td>Film &amp; Video</td>\n      <td>USD</td>\n      <td>2011-03-23</td>\n      <td>2011-01-22 07:13:42</td>\n      <td>US</td>\n      <td>failed</td>\n      <td>6000.0</td>\n    </tr>\n    <tr>\n      <th>368235</th>\n      <td>Documentary</td>\n      <td>Film &amp; Video</td>\n      <td>USD</td>\n      <td>2012-05-05</td>\n      <td>2012-03-21 00:03:35</td>\n      <td>US</td>\n      <td>failed</td>\n      <td>18000.0</td>\n    </tr>\n    <tr>\n      <th>289092</th>\n      <td>Film &amp; Video</td>\n      <td>Film &amp; Video</td>\n      <td>USD</td>\n      <td>2016-01-17</td>\n      <td>2015-12-18 00:05:20</td>\n      <td>US</td>\n      <td>failed</td>\n      <td>19000.0</td>\n    </tr>\n  </tbody>\n</table>\n</div>"
     },
     "metadata": {},
     "execution_count": 7
    }
   ],
   "source": [
    "#removing data leakage columns\n",
    "\n",
    "df = df[['category', 'main_category', 'currency', 'deadline', 'launched', 'country', 'state', 'goal']]\n",
    "\n",
    "df.sample(5)"
   ]
  },
  {
   "cell_type": "code",
   "execution_count": 8,
   "metadata": {},
   "outputs": [
    {
     "output_type": "execute_result",
     "data": {
      "text/plain": [
       "              category main_category currency    deadline  \\\n",
       "190567     Documentary  Film & Video      GBP  2015-01-05   \n",
       "70737          Fashion       Fashion      EUR  2017-03-17   \n",
       "82932          Theater       Theater      USD  2012-05-04   \n",
       "361954    Film & Video  Film & Video      USD  2014-06-20   \n",
       "276703  Product Design        Design      USD  2015-10-21   \n",
       "\n",
       "                   launched country       state     goal  outcome  \n",
       "190567  2014-12-01 17:54:54      GB  successful  10000.0        1  \n",
       "70737   2017-02-15 18:40:01      DE  successful  10000.0        1  \n",
       "82932   2012-04-04 21:09:14      US      failed  15000.0        0  \n",
       "361954  2014-05-21 19:46:21      US      failed    250.0        0  \n",
       "276703  2015-09-21 21:24:29      US      failed    500.0        0  "
      ],
      "text/html": "<div>\n<style scoped>\n    .dataframe tbody tr th:only-of-type {\n        vertical-align: middle;\n    }\n\n    .dataframe tbody tr th {\n        vertical-align: top;\n    }\n\n    .dataframe thead th {\n        text-align: right;\n    }\n</style>\n<table border=\"1\" class=\"dataframe\">\n  <thead>\n    <tr style=\"text-align: right;\">\n      <th></th>\n      <th>category</th>\n      <th>main_category</th>\n      <th>currency</th>\n      <th>deadline</th>\n      <th>launched</th>\n      <th>country</th>\n      <th>state</th>\n      <th>goal</th>\n      <th>outcome</th>\n    </tr>\n  </thead>\n  <tbody>\n    <tr>\n      <th>190567</th>\n      <td>Documentary</td>\n      <td>Film &amp; Video</td>\n      <td>GBP</td>\n      <td>2015-01-05</td>\n      <td>2014-12-01 17:54:54</td>\n      <td>GB</td>\n      <td>successful</td>\n      <td>10000.0</td>\n      <td>1</td>\n    </tr>\n    <tr>\n      <th>70737</th>\n      <td>Fashion</td>\n      <td>Fashion</td>\n      <td>EUR</td>\n      <td>2017-03-17</td>\n      <td>2017-02-15 18:40:01</td>\n      <td>DE</td>\n      <td>successful</td>\n      <td>10000.0</td>\n      <td>1</td>\n    </tr>\n    <tr>\n      <th>82932</th>\n      <td>Theater</td>\n      <td>Theater</td>\n      <td>USD</td>\n      <td>2012-05-04</td>\n      <td>2012-04-04 21:09:14</td>\n      <td>US</td>\n      <td>failed</td>\n      <td>15000.0</td>\n      <td>0</td>\n    </tr>\n    <tr>\n      <th>361954</th>\n      <td>Film &amp; Video</td>\n      <td>Film &amp; Video</td>\n      <td>USD</td>\n      <td>2014-06-20</td>\n      <td>2014-05-21 19:46:21</td>\n      <td>US</td>\n      <td>failed</td>\n      <td>250.0</td>\n      <td>0</td>\n    </tr>\n    <tr>\n      <th>276703</th>\n      <td>Product Design</td>\n      <td>Design</td>\n      <td>USD</td>\n      <td>2015-10-21</td>\n      <td>2015-09-21 21:24:29</td>\n      <td>US</td>\n      <td>failed</td>\n      <td>500.0</td>\n      <td>0</td>\n    </tr>\n  </tbody>\n</table>\n</div>"
     },
     "metadata": {},
     "execution_count": 8
    }
   ],
   "source": [
    "#converting state into binary success and failure where success=1  and failure = 0 \n",
    "\n",
    "df = df.assign(outcome=(df['state'] == 'successful').astype(int))\n",
    "\n",
    "df.sample(5)"
   ]
  },
  {
   "cell_type": "code",
   "execution_count": 9,
   "metadata": {},
   "outputs": [
    {
     "output_type": "execute_result",
     "data": {
      "text/plain": [
       "         category main_category currency   deadline            launched  \\\n",
       "0          Poetry    Publishing      GBP 2015-10-09 2015-08-11 12:12:28   \n",
       "1  Narrative Film  Film & Video      USD 2017-11-01 2017-09-02 04:43:57   \n",
       "2  Narrative Film  Film & Video      USD 2013-02-26 2013-01-12 00:20:50   \n",
       "3           Music         Music      USD 2012-04-16 2012-03-17 03:24:11   \n",
       "5     Restaurants          Food      USD 2016-04-01 2016-02-26 13:38:27   \n",
       "\n",
       "  country       state     goal  outcome  hour_launched  day_launched  \\\n",
       "0      GB      failed   1000.0        0             12            11   \n",
       "1      US      failed  30000.0        0              4             2   \n",
       "2      US      failed  45000.0        0              0            12   \n",
       "3      US      failed   5000.0        0              3            17   \n",
       "5      US  successful  50000.0        1             13            26   \n",
       "\n",
       "   month_launched  year_launched  day_deadline  month_deadline  year_deadline  \n",
       "0               8           2015            11               8           2015  \n",
       "1               9           2017             2               9           2017  \n",
       "2               1           2013            12               1           2013  \n",
       "3               3           2012            17               3           2012  \n",
       "5               2           2016            26               2           2016  "
      ],
      "text/html": "<div>\n<style scoped>\n    .dataframe tbody tr th:only-of-type {\n        vertical-align: middle;\n    }\n\n    .dataframe tbody tr th {\n        vertical-align: top;\n    }\n\n    .dataframe thead th {\n        text-align: right;\n    }\n</style>\n<table border=\"1\" class=\"dataframe\">\n  <thead>\n    <tr style=\"text-align: right;\">\n      <th></th>\n      <th>category</th>\n      <th>main_category</th>\n      <th>currency</th>\n      <th>deadline</th>\n      <th>launched</th>\n      <th>country</th>\n      <th>state</th>\n      <th>goal</th>\n      <th>outcome</th>\n      <th>hour_launched</th>\n      <th>day_launched</th>\n      <th>month_launched</th>\n      <th>year_launched</th>\n      <th>day_deadline</th>\n      <th>month_deadline</th>\n      <th>year_deadline</th>\n    </tr>\n  </thead>\n  <tbody>\n    <tr>\n      <th>0</th>\n      <td>Poetry</td>\n      <td>Publishing</td>\n      <td>GBP</td>\n      <td>2015-10-09</td>\n      <td>2015-08-11 12:12:28</td>\n      <td>GB</td>\n      <td>failed</td>\n      <td>1000.0</td>\n      <td>0</td>\n      <td>12</td>\n      <td>11</td>\n      <td>8</td>\n      <td>2015</td>\n      <td>11</td>\n      <td>8</td>\n      <td>2015</td>\n    </tr>\n    <tr>\n      <th>1</th>\n      <td>Narrative Film</td>\n      <td>Film &amp; Video</td>\n      <td>USD</td>\n      <td>2017-11-01</td>\n      <td>2017-09-02 04:43:57</td>\n      <td>US</td>\n      <td>failed</td>\n      <td>30000.0</td>\n      <td>0</td>\n      <td>4</td>\n      <td>2</td>\n      <td>9</td>\n      <td>2017</td>\n      <td>2</td>\n      <td>9</td>\n      <td>2017</td>\n    </tr>\n    <tr>\n      <th>2</th>\n      <td>Narrative Film</td>\n      <td>Film &amp; Video</td>\n      <td>USD</td>\n      <td>2013-02-26</td>\n      <td>2013-01-12 00:20:50</td>\n      <td>US</td>\n      <td>failed</td>\n      <td>45000.0</td>\n      <td>0</td>\n      <td>0</td>\n      <td>12</td>\n      <td>1</td>\n      <td>2013</td>\n      <td>12</td>\n      <td>1</td>\n      <td>2013</td>\n    </tr>\n    <tr>\n      <th>3</th>\n      <td>Music</td>\n      <td>Music</td>\n      <td>USD</td>\n      <td>2012-04-16</td>\n      <td>2012-03-17 03:24:11</td>\n      <td>US</td>\n      <td>failed</td>\n      <td>5000.0</td>\n      <td>0</td>\n      <td>3</td>\n      <td>17</td>\n      <td>3</td>\n      <td>2012</td>\n      <td>17</td>\n      <td>3</td>\n      <td>2012</td>\n    </tr>\n    <tr>\n      <th>5</th>\n      <td>Restaurants</td>\n      <td>Food</td>\n      <td>USD</td>\n      <td>2016-04-01</td>\n      <td>2016-02-26 13:38:27</td>\n      <td>US</td>\n      <td>successful</td>\n      <td>50000.0</td>\n      <td>1</td>\n      <td>13</td>\n      <td>26</td>\n      <td>2</td>\n      <td>2016</td>\n      <td>26</td>\n      <td>2</td>\n      <td>2016</td>\n    </tr>\n  </tbody>\n</table>\n</div>"
     },
     "metadata": {},
     "execution_count": 9
    }
   ],
   "source": [
    "df['launched'] = pd.to_datetime(df['launched'])\n",
    "df['deadline'] = pd.to_datetime(df['deadline'])\n",
    "\n",
    "df = df.assign(hour_launched=df.launched.dt.hour,\n",
    "               day_launched=df.launched.dt.day,\n",
    "               month_launched=df.launched.dt.month,\n",
    "               year_launched=df.launched.dt.year)\n",
    "\n",
    "df = df.assign(day_deadline=df.launched.dt.day,\n",
    "               month_deadline=df.launched.dt.month,\n",
    "               year_deadline=df.launched.dt.year)\n",
    "\n",
    "df.head()"
   ]
  },
  {
   "cell_type": "code",
   "execution_count": 10,
   "metadata": {},
   "outputs": [
    {
     "output_type": "execute_result",
     "data": {
      "text/plain": [
       "      goal  hour_launched  day_launched  month_launched  year_launched  \\\n",
       "0   1000.0             12            11               8           2015   \n",
       "1  30000.0              4             2               9           2017   \n",
       "2  45000.0              0            12               1           2013   \n",
       "3   5000.0              3            17               3           2012   \n",
       "5  50000.0             13            26               2           2016   \n",
       "\n",
       "   day_deadline  month_deadline  year_deadline  outcome  category  currency  \\\n",
       "0            11               8           2015        0       108         5   \n",
       "1             2               9           2017        0        93        13   \n",
       "2            12               1           2013        0        93        13   \n",
       "3            17               3           2012        0        90        13   \n",
       "5            26               2           2016        1       123        13   \n",
       "\n",
       "   country  main_category  \n",
       "0        9             12  \n",
       "1       22              6  \n",
       "2       22              6  \n",
       "3       22             10  \n",
       "5       22              7  "
      ],
      "text/html": "<div>\n<style scoped>\n    .dataframe tbody tr th:only-of-type {\n        vertical-align: middle;\n    }\n\n    .dataframe tbody tr th {\n        vertical-align: top;\n    }\n\n    .dataframe thead th {\n        text-align: right;\n    }\n</style>\n<table border=\"1\" class=\"dataframe\">\n  <thead>\n    <tr style=\"text-align: right;\">\n      <th></th>\n      <th>goal</th>\n      <th>hour_launched</th>\n      <th>day_launched</th>\n      <th>month_launched</th>\n      <th>year_launched</th>\n      <th>day_deadline</th>\n      <th>month_deadline</th>\n      <th>year_deadline</th>\n      <th>outcome</th>\n      <th>category</th>\n      <th>currency</th>\n      <th>country</th>\n      <th>main_category</th>\n    </tr>\n  </thead>\n  <tbody>\n    <tr>\n      <th>0</th>\n      <td>1000.0</td>\n      <td>12</td>\n      <td>11</td>\n      <td>8</td>\n      <td>2015</td>\n      <td>11</td>\n      <td>8</td>\n      <td>2015</td>\n      <td>0</td>\n      <td>108</td>\n      <td>5</td>\n      <td>9</td>\n      <td>12</td>\n    </tr>\n    <tr>\n      <th>1</th>\n      <td>30000.0</td>\n      <td>4</td>\n      <td>2</td>\n      <td>9</td>\n      <td>2017</td>\n      <td>2</td>\n      <td>9</td>\n      <td>2017</td>\n      <td>0</td>\n      <td>93</td>\n      <td>13</td>\n      <td>22</td>\n      <td>6</td>\n    </tr>\n    <tr>\n      <th>2</th>\n      <td>45000.0</td>\n      <td>0</td>\n      <td>12</td>\n      <td>1</td>\n      <td>2013</td>\n      <td>12</td>\n      <td>1</td>\n      <td>2013</td>\n      <td>0</td>\n      <td>93</td>\n      <td>13</td>\n      <td>22</td>\n      <td>6</td>\n    </tr>\n    <tr>\n      <th>3</th>\n      <td>5000.0</td>\n      <td>3</td>\n      <td>17</td>\n      <td>3</td>\n      <td>2012</td>\n      <td>17</td>\n      <td>3</td>\n      <td>2012</td>\n      <td>0</td>\n      <td>90</td>\n      <td>13</td>\n      <td>22</td>\n      <td>10</td>\n    </tr>\n    <tr>\n      <th>5</th>\n      <td>50000.0</td>\n      <td>13</td>\n      <td>26</td>\n      <td>2</td>\n      <td>2016</td>\n      <td>26</td>\n      <td>2</td>\n      <td>2016</td>\n      <td>1</td>\n      <td>123</td>\n      <td>13</td>\n      <td>22</td>\n      <td>7</td>\n    </tr>\n  </tbody>\n</table>\n</div>"
     },
     "metadata": {},
     "execution_count": 10
    }
   ],
   "source": [
    "from sklearn.preprocessing import LabelEncoder\n",
    "\n",
    "cat_features = ['category', 'currency', 'country', 'main_category']\n",
    "encoder = LabelEncoder()\n",
    "\n",
    "encoded = df[cat_features].apply(encoder.fit_transform)\n",
    "encoded.head(10)\n",
    "\n",
    "df = df[['goal', 'hour_launched', 'day_launched', 'month_launched', 'year_launched','day_deadline', 'month_deadline', 'year_deadline', 'outcome']].join(encoded)\n",
    "df.head()"
   ]
  },
  {
   "cell_type": "markdown",
   "metadata": {},
   "source": [
    "## Data Exploration"
   ]
  },
  {
   "cell_type": "code",
   "execution_count": 11,
   "metadata": {},
   "outputs": [],
   "source": [
    "# Descriptive statistics for key fields\n",
    "# Add visualizations (where applicable)"
   ]
  },
  {
   "cell_type": "markdown",
   "metadata": {},
   "source": [
    "## Baseline Model (Benchmark)"
   ]
  },
  {
   "cell_type": "code",
   "execution_count": 19,
   "metadata": {},
   "outputs": [
    {
     "output_type": "execute_result",
     "data": {
      "text/plain": [
       "      goal  hour_launched  day_launched  month_launched  year_launched  \\\n",
       "0   1000.0             12            11               8           2015   \n",
       "1  30000.0              4             2               9           2017   \n",
       "2  45000.0              0            12               1           2013   \n",
       "3   5000.0              3            17               3           2012   \n",
       "5  50000.0             13            26               2           2016   \n",
       "\n",
       "   day_deadline  month_deadline  year_deadline  category  currency  country  \\\n",
       "0            11               8           2015       108         5        9   \n",
       "1             2               9           2017        93        13       22   \n",
       "2            12               1           2013        93        13       22   \n",
       "3            17               3           2012        90        13       22   \n",
       "5            26               2           2016       123        13       22   \n",
       "\n",
       "   main_category  \n",
       "0             12  \n",
       "1              6  \n",
       "2              6  \n",
       "3             10  \n",
       "5              7  "
      ],
      "text/html": "<div>\n<style scoped>\n    .dataframe tbody tr th:only-of-type {\n        vertical-align: middle;\n    }\n\n    .dataframe tbody tr th {\n        vertical-align: top;\n    }\n\n    .dataframe thead th {\n        text-align: right;\n    }\n</style>\n<table border=\"1\" class=\"dataframe\">\n  <thead>\n    <tr style=\"text-align: right;\">\n      <th></th>\n      <th>goal</th>\n      <th>hour_launched</th>\n      <th>day_launched</th>\n      <th>month_launched</th>\n      <th>year_launched</th>\n      <th>day_deadline</th>\n      <th>month_deadline</th>\n      <th>year_deadline</th>\n      <th>category</th>\n      <th>currency</th>\n      <th>country</th>\n      <th>main_category</th>\n    </tr>\n  </thead>\n  <tbody>\n    <tr>\n      <th>0</th>\n      <td>1000.0</td>\n      <td>12</td>\n      <td>11</td>\n      <td>8</td>\n      <td>2015</td>\n      <td>11</td>\n      <td>8</td>\n      <td>2015</td>\n      <td>108</td>\n      <td>5</td>\n      <td>9</td>\n      <td>12</td>\n    </tr>\n    <tr>\n      <th>1</th>\n      <td>30000.0</td>\n      <td>4</td>\n      <td>2</td>\n      <td>9</td>\n      <td>2017</td>\n      <td>2</td>\n      <td>9</td>\n      <td>2017</td>\n      <td>93</td>\n      <td>13</td>\n      <td>22</td>\n      <td>6</td>\n    </tr>\n    <tr>\n      <th>2</th>\n      <td>45000.0</td>\n      <td>0</td>\n      <td>12</td>\n      <td>1</td>\n      <td>2013</td>\n      <td>12</td>\n      <td>1</td>\n      <td>2013</td>\n      <td>93</td>\n      <td>13</td>\n      <td>22</td>\n      <td>6</td>\n    </tr>\n    <tr>\n      <th>3</th>\n      <td>5000.0</td>\n      <td>3</td>\n      <td>17</td>\n      <td>3</td>\n      <td>2012</td>\n      <td>17</td>\n      <td>3</td>\n      <td>2012</td>\n      <td>90</td>\n      <td>13</td>\n      <td>22</td>\n      <td>10</td>\n    </tr>\n    <tr>\n      <th>5</th>\n      <td>50000.0</td>\n      <td>13</td>\n      <td>26</td>\n      <td>2</td>\n      <td>2016</td>\n      <td>26</td>\n      <td>2</td>\n      <td>2016</td>\n      <td>123</td>\n      <td>13</td>\n      <td>22</td>\n      <td>7</td>\n    </tr>\n  </tbody>\n</table>\n</div>"
     },
     "metadata": {},
     "execution_count": 19
    }
   ],
   "source": [
    "# Simple baseline model\n",
    "features = ['goal', 'hour_launched', 'day_launched', 'month_launched', 'year_launched','day_deadline', 'month_deadline', 'year_deadline', 'category', 'currency', 'country', 'main_category']\n",
    "target = 'outcome'\n",
    "\n",
    "X = df[features]\n",
    "y = df[target]\n",
    "\n",
    "X.head()\n"
   ]
  },
  {
   "cell_type": "code",
   "execution_count": 27,
   "metadata": {},
   "outputs": [],
   "source": [
    "from sklearn.preprocessing import RobustScaler \n",
    "\n",
    "scaler = RobustScaler()\n",
    "\n",
    "X_numerical = X.drop(['main_category','country'], axis = 1)\n",
    "\n",
    "scaler.fit(X_numerical)\n",
    "\n",
    "scaled_X = scaler.transform(X_numerical)\n",
    "\n",
    "scaled_X = pd.DataFrame(scaled_X, columns = X_numerical.columns)"
   ]
  },
  {
   "cell_type": "code",
   "execution_count": 13,
   "metadata": {},
   "outputs": [],
   "source": [
    "#\n",
    "%load_ext tensorboard\n",
    "\n",
    "import os\n",
    "import datetime\n",
    "import tensorflow as tf\n",
    "\n",
    "logdir = os.path.join(\"logs\", datetime.datetime.now().strftime(\"%Y%m%d-%H%M%S\"))\n",
    "tensorboard_callback = tf.keras.callbacks.TensorBoard(logdir, histogram_freq=1)"
   ]
  },
  {
   "cell_type": "code",
   "execution_count": 34,
   "metadata": {},
   "outputs": [
    {
     "output_type": "stream",
     "name": "stdout",
     "text": [
      "Model: \"sequential_5\"\n_________________________________________________________________\nLayer (type)                 Output Shape              Param #   \n=================================================================\ndense_20 (Dense)             (None, 10)                110       \n_________________________________________________________________\ndense_21 (Dense)             (None, 1)                 11        \n=================================================================\nTotal params: 121\nTrainable params: 121\nNon-trainable params: 0\n_________________________________________________________________\n"
     ]
    }
   ],
   "source": [
    "from tensorflow.keras.models import Sequential\n",
    "from tensorflow.keras.layers import Dense\n",
    "\n",
    "model = Sequential([\n",
    "    Dense(10, input_dim=10, activation='relu'),\n",
    "    Dense(1, activation='sigmoid'),    \n",
    "])\n",
    "\n",
    "model.compile(loss='binary_crossentropy',\n",
    "              optimizer='adam',\n",
    "              metrics=['accuracy'])\n",
    "\n",
    "model.summary()"
   ]
  },
  {
   "cell_type": "code",
   "execution_count": 35,
   "metadata": {},
   "outputs": [
    {
     "output_type": "stream",
     "name": "stdout",
     "text": [
      "Epoch 1/10\n",
      "8498/8498 [==============================] - 4s 489us/step - loss: 0.8952 - accuracy: 0.5994 - val_loss: 0.6371 - val_accuracy: 0.6312\n",
      "Epoch 2/10\n",
      "8498/8498 [==============================] - 4s 446us/step - loss: 0.6384 - accuracy: 0.6313 - val_loss: 0.6353 - val_accuracy: 0.6353\n",
      "Epoch 3/10\n",
      "8498/8498 [==============================] - 4s 438us/step - loss: 0.6351 - accuracy: 0.6340 - val_loss: 0.6335 - val_accuracy: 0.6351\n",
      "Epoch 4/10\n",
      "8498/8498 [==============================] - 4s 447us/step - loss: 0.6337 - accuracy: 0.6339 - val_loss: 0.6331 - val_accuracy: 0.6345\n",
      "Epoch 5/10\n",
      "8498/8498 [==============================] - 4s 437us/step - loss: 0.6332 - accuracy: 0.6338 - val_loss: 0.6315 - val_accuracy: 0.6360\n",
      "Epoch 6/10\n",
      "8498/8498 [==============================] - 4s 442us/step - loss: 0.6323 - accuracy: 0.6349 - val_loss: 0.6324 - val_accuracy: 0.6348\n",
      "Epoch 7/10\n",
      "8498/8498 [==============================] - 4s 445us/step - loss: 0.6322 - accuracy: 0.6354 - val_loss: 0.6296 - val_accuracy: 0.6380\n",
      "Epoch 8/10\n",
      "8498/8498 [==============================] - 4s 441us/step - loss: 0.6307 - accuracy: 0.6370 - val_loss: 0.6294 - val_accuracy: 0.6385\n",
      "Epoch 9/10\n",
      "8498/8498 [==============================] - 4s 444us/step - loss: 0.6290 - accuracy: 0.6382 - val_loss: 0.6295 - val_accuracy: 0.6387\n",
      "Epoch 10/10\n",
      "8498/8498 [==============================] - 4s 441us/step - loss: 0.6310 - accuracy: 0.6354 - val_loss: 0.6284 - val_accuracy: 0.6397\n"
     ]
    },
    {
     "output_type": "execute_result",
     "data": {
      "text/plain": [
       "<tensorflow.python.keras.callbacks.History at 0x21b60fc4790>"
      ]
     },
     "metadata": {},
     "execution_count": 35
    }
   ],
   "source": [
    "model.fit(scaled_X, y,\n",
    "          epochs=10,\n",
    "          batch_size=32,\n",
    "          validation_split=0.2,\n",
    "          callbacks=[tensorboard_callback])"
   ]
  },
  {
   "cell_type": "code",
   "execution_count": 42,
   "metadata": {},
   "outputs": [
    {
     "output_type": "display_data",
     "data": {
      "text/plain": "ERROR: Timed out waiting for TensorBoard to start. It may still be running as pid 12584."
     },
     "metadata": {}
    }
   ],
   "source": [
    "%tensorboard --logdir logs"
   ]
  },
  {
   "cell_type": "markdown",
   "metadata": {},
   "source": [
    "## Modeling Approach #1"
   ]
  },
  {
   "cell_type": "code",
   "execution_count": 36,
   "metadata": {},
   "outputs": [
    {
     "output_type": "stream",
     "name": "stdout",
     "text": [
      "Model: \"sequential_6\"\n_________________________________________________________________\nLayer (type)                 Output Shape              Param #   \n=================================================================\ndense_22 (Dense)             (None, 64)                704       \n_________________________________________________________________\ndense_23 (Dense)             (None, 32)                2080      \n_________________________________________________________________\ndense_24 (Dense)             (None, 16)                528       \n_________________________________________________________________\ndense_25 (Dense)             (None, 1)                 17        \n=================================================================\nTotal params: 3,329\nTrainable params: 3,329\nNon-trainable params: 0\n_________________________________________________________________\n"
     ]
    }
   ],
   "source": [
    "model2 = Sequential([\n",
    "    Dense(64, input_dim=10, activation='relu'),\n",
    "    Dense(32, activation='relu'),\n",
    "    Dense(16, activation='relu'),\n",
    "    Dense(1, activation='sigmoid'),    \n",
    "])\n",
    "\n",
    "model2.compile(loss='binary_crossentropy',\n",
    "              optimizer='adam',\n",
    "              metrics=['accuracy'])\n",
    "\n",
    "model2.summary()"
   ]
  },
  {
   "cell_type": "code",
   "execution_count": 37,
   "metadata": {},
   "outputs": [
    {
     "output_type": "stream",
     "name": "stdout",
     "text": [
      "Epoch 1/20\n",
      "8498/8498 [==============================] - 6s 608us/step - loss: 0.6399 - accuracy: 0.6281 - val_loss: 0.6292 - val_accuracy: 0.6384\n",
      "Epoch 2/20\n",
      "8498/8498 [==============================] - 4s 505us/step - loss: 0.6287 - accuracy: 0.6404 - val_loss: 0.6254 - val_accuracy: 0.6442\n",
      "Epoch 3/20\n",
      "8498/8498 [==============================] - 4s 495us/step - loss: 0.6252 - accuracy: 0.6448 - val_loss: 0.6242 - val_accuracy: 0.6442\n",
      "Epoch 4/20\n",
      "8498/8498 [==============================] - 4s 497us/step - loss: 0.6239 - accuracy: 0.6456 - val_loss: 0.6210 - val_accuracy: 0.6500\n",
      "Epoch 5/20\n",
      "8498/8498 [==============================] - 4s 501us/step - loss: 0.6218 - accuracy: 0.6476 - val_loss: 0.6204 - val_accuracy: 0.6503\n",
      "Epoch 6/20\n",
      "8498/8498 [==============================] - 4s 521us/step - loss: 0.6181 - accuracy: 0.6519 - val_loss: 0.6185 - val_accuracy: 0.6516\n",
      "Epoch 7/20\n",
      "8498/8498 [==============================] - 4s 503us/step - loss: 0.6178 - accuracy: 0.6519 - val_loss: 0.6188 - val_accuracy: 0.6523\n",
      "Epoch 8/20\n",
      "8498/8498 [==============================] - 4s 504us/step - loss: 0.6187 - accuracy: 0.6510 - val_loss: 0.6189 - val_accuracy: 0.6531\n",
      "Epoch 9/20\n",
      "8498/8498 [==============================] - 4s 503us/step - loss: 0.6159 - accuracy: 0.6545 - val_loss: 0.6154 - val_accuracy: 0.6545\n",
      "Epoch 10/20\n",
      "8498/8498 [==============================] - 4s 504us/step - loss: 0.6167 - accuracy: 0.6526 - val_loss: 0.6167 - val_accuracy: 0.6519\n",
      "Epoch 11/20\n",
      "8498/8498 [==============================] - 4s 507us/step - loss: 0.6151 - accuracy: 0.6561 - val_loss: 0.6163 - val_accuracy: 0.6539\n",
      "Epoch 12/20\n",
      "8498/8498 [==============================] - 4s 500us/step - loss: 0.6152 - accuracy: 0.6551 - val_loss: 0.6155 - val_accuracy: 0.6554\n",
      "Epoch 13/20\n",
      "8498/8498 [==============================] - 4s 496us/step - loss: 0.6129 - accuracy: 0.6574 - val_loss: 0.6148 - val_accuracy: 0.6552\n",
      "Epoch 14/20\n",
      "8498/8498 [==============================] - 4s 489us/step - loss: 0.6140 - accuracy: 0.6569 - val_loss: 0.6158 - val_accuracy: 0.6543\n",
      "Epoch 15/20\n",
      "8498/8498 [==============================] - 4s 498us/step - loss: 0.6134 - accuracy: 0.6567 - val_loss: 0.6149 - val_accuracy: 0.6537\n",
      "Epoch 16/20\n",
      "8498/8498 [==============================] - 4s 499us/step - loss: 0.6132 - accuracy: 0.6574 - val_loss: 0.6149 - val_accuracy: 0.6556\n",
      "Epoch 17/20\n",
      "8498/8498 [==============================] - 4s 491us/step - loss: 0.6133 - accuracy: 0.6563 - val_loss: 0.6161 - val_accuracy: 0.6527\n",
      "Epoch 18/20\n",
      "8498/8498 [==============================] - 4s 495us/step - loss: 0.6132 - accuracy: 0.6569 - val_loss: 0.6153 - val_accuracy: 0.6542\n",
      "Epoch 19/20\n",
      "8498/8498 [==============================] - 4s 505us/step - loss: 0.6132 - accuracy: 0.6575 - val_loss: 0.6140 - val_accuracy: 0.6557\n",
      "Epoch 20/20\n",
      "8498/8498 [==============================] - 4s 501us/step - loss: 0.6126 - accuracy: 0.6581 - val_loss: 0.6132 - val_accuracy: 0.6561\n"
     ]
    },
    {
     "output_type": "execute_result",
     "data": {
      "text/plain": [
       "<tensorflow.python.keras.callbacks.History at 0x21b5c5674c0>"
      ]
     },
     "metadata": {},
     "execution_count": 37
    }
   ],
   "source": [
    "model2.fit(scaled_X, y,\n",
    "          epochs=20,\n",
    "          batch_size=32,\n",
    "          validation_split=0.2,\n",
    "          callbacks=[tensorboard_callback])"
   ]
  },
  {
   "cell_type": "markdown",
   "metadata": {},
   "source": [
    "## Modeling Approach #2"
   ]
  },
  {
   "cell_type": "code",
   "execution_count": 42,
   "metadata": {},
   "outputs": [],
   "source": [
    "#adding early stopping\n",
    "\n",
    "from tensorflow.keras.callbacks import EarlyStopping\n",
    "\n",
    "logdir = os.path.join(\"logs\", \"EarlyStopping-Loss\")\n",
    "\n",
    "tensorboard_callback = tf.keras.callbacks.TensorBoard(logdir, histogram_freq=1)\n",
    "stop = EarlyStopping(monitor='val_accuracy', min_delta=0.005, patience=3)\n",
    "\n",
    "model3 = tf.keras.Sequential([\n",
    "    Dense(300, input_dim=10, activation='relu'),\n",
    "    Dense(150, activation='relu'),\n",
    "    Dense(75, activation='relu'),\n",
    "    Dense(1, activation='sigmoid')\n",
    "])\n",
    "\n",
    "model3.compile(loss='binary_crossentropy', optimizer='nadam', metrics=['accuracy'])\n"
   ]
  },
  {
   "cell_type": "code",
   "execution_count": 43,
   "metadata": {},
   "outputs": [
    {
     "output_type": "stream",
     "name": "stdout",
     "text": [
      "Epoch 1/99\n",
      "8498/8498 [==============================] - 4s 518us/step - loss: 0.6098 - accuracy: 0.6605 - val_loss: 0.6130 - val_accuracy: 0.6571\n",
      "Epoch 2/99\n",
      "8498/8498 [==============================] - 4s 501us/step - loss: 0.6096 - accuracy: 0.6606 - val_loss: 0.6115 - val_accuracy: 0.6566\n",
      "Epoch 3/99\n",
      "8498/8498 [==============================] - 4s 520us/step - loss: 0.6097 - accuracy: 0.6602 - val_loss: 0.6123 - val_accuracy: 0.6578\n",
      "Epoch 4/99\n",
      "8498/8498 [==============================] - 4s 508us/step - loss: 0.6092 - accuracy: 0.6611 - val_loss: 0.6127 - val_accuracy: 0.6576\n"
     ]
    },
    {
     "output_type": "execute_result",
     "data": {
      "text/plain": [
       "<tensorflow.python.keras.callbacks.History at 0x21b683672b0>"
      ]
     },
     "metadata": {},
     "execution_count": 43
    }
   ],
   "source": [
    "model.fit(scaled_X, y, epochs=99, \n",
    "          validation_split=0.2,\n",
    "          callbacks=[tensorboard_callback, stop])"
   ]
  },
  {
   "cell_type": "markdown",
   "metadata": {},
   "source": [
    "## Hyper-parameter Tuning for Best Model"
   ]
  },
  {
   "cell_type": "code",
   "execution_count": null,
   "metadata": {},
   "outputs": [],
   "source": []
  },
  {
   "cell_type": "markdown",
   "metadata": {},
   "source": [
    "## Save Final Model"
   ]
  },
  {
   "cell_type": "code",
   "execution_count": null,
   "metadata": {},
   "outputs": [],
   "source": [
    "import joblib\n",
    "\n",
    "joblib.dump(model, '../models/model_name.joblib')"
   ]
  }
 ],
 "metadata": {
  "kernelspec": {
   "name": "python3",
   "display_name": "Python 3.8.0 64-bit ('kickstarter-success': pipenv)",
   "metadata": {
    "interpreter": {
     "hash": "ebde07714c946797f80d2eb65046de0aaaa7964d512aeda8d8c11a98861fc834"
    }
   }
  },
  "language_info": {
   "codemirror_mode": {
    "name": "ipython",
    "version": 3
   },
   "file_extension": ".py",
   "mimetype": "text/x-python",
   "name": "python",
   "nbconvert_exporter": "python",
   "pygments_lexer": "ipython3",
   "version": "3.8.0-final"
  }
 },
 "nbformat": 4,
 "nbformat_minor": 4
}
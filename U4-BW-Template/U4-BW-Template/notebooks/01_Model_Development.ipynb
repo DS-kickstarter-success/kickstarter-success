{
 "cells": [
  {
   "cell_type": "markdown",
   "metadata": {},
   "source": [
    "# BW Project Title\n",
    "\n",
    "## Team Members\n",
    "- Zack Snyder\n",
    "\n",
    "## Project Description\n",
    "This model will utilize data from the Kaggle kickstarter dataset to predict whether a kickstarter project will be successful. "
   ]
  },
  {
   "cell_type": "code",
   "execution_count": 34,
   "metadata": {},
   "outputs": [
    {
     "output_type": "stream",
     "name": "stdout",
     "text": [
      "Numpy Version: 1.19.5\nTensorflow Version: 2.4.1\nPandas Version: 1.2.2\nsklearn Version: 0.24.1\n"
     ]
    }
   ],
   "source": [
    "# Import required packages\n",
    "import numpy as np\n",
    "import tensorflow as tf\n",
    "import pandas as pd\n",
    "import sklearn\n",
    "\n",
    "print(f'Numpy Version: {np.__version__}')\n",
    "print(f'Tensorflow Version: {tf.__version__}')\n",
    "print(f'Pandas Version: {pd.__version__}')\n",
    "print(f'sklearn Version: {sklearn.__version__}')"
   ]
  },
  {
   "cell_type": "markdown",
   "metadata": {},
   "source": [
    "## Load Data"
   ]
  },
  {
   "cell_type": "code",
   "execution_count": 25,
   "metadata": {},
   "outputs": [
    {
     "output_type": "execute_result",
     "data": {
      "text/plain": [
       "                 ID                                               name   \\\n",
       "262730  6.337368e+08         Join the rainforest cockatoo film project!   \n",
       "300504  8.603800e+08                                  Mustache Monocles   \n",
       "119839  1.711382e+09  Joker Cricket - Annoy Everyone With This Hidde...   \n",
       "173577  2.033064e+09   ONCE IN A LIFETIME: \"Just Go For It!\" (Canceled)   \n",
       "287453  7.820680e+08       Dirty 30,  etched metal photo series project   \n",
       "243303  5.162245e+08              Onomasticon: A Vocabulary for Nowhere   \n",
       "224183  4.022676e+08                                 A walk in the park   \n",
       "165197  1.982450e+09                                  Theme Song Thesis   \n",
       "44113   1.262198e+09                            Lapis Azurai (Canceled)   \n",
       "366029           NaN                                                NaN   \n",
       "\n",
       "             category  main_category  currency             deadline    goal   \\\n",
       "262730    Film & Video   Film & Video       USD  2014-02-26 03:55:32   19100   \n",
       "300504         Fashion        Fashion       USD  2012-07-16 21:00:00   20000   \n",
       "119839  Product Design         Design       USD  2016-11-10 21:01:26   12500   \n",
       "173577           Drama   Film & Video       USD  2015-09-02 18:05:19  125000   \n",
       "287453   Installations            Art       USD  2015-03-04 08:59:00    1000   \n",
       "243303     Photography    Photography       USD  2010-09-25 06:59:00    4000   \n",
       "224183    Film & Video   Film & Video       EUR  2015-01-18 22:30:30    1000   \n",
       "165197          Shorts   Film & Video       USD  2011-12-08 22:41:56    5000   \n",
       "44113      Video Games          Games       USD  2015-03-03 01:36:14   20000   \n",
       "366029             NaN            NaN       NaN                  NaN     NaN   \n",
       "\n",
       "                  launched  pledged       state   ...    deadline     goal  \\\n",
       "262730  2014-01-17 03:55:32      101      failed  ...  2013-07-24  25000.0   \n",
       "300504  2012-06-12 10:08:14     5089      failed  ...  2015-06-02   6000.0   \n",
       "119839  2016-10-11 21:01:26    15214  successful  ...  2017-02-22  80000.0   \n",
       "173577  2015-08-03 18:05:19        0    canceled  ...  2011-10-24    750.0   \n",
       "287453  2015-02-04 20:03:47     1564  successful  ...  2017-04-23   1200.0   \n",
       "243303  2010-06-28 06:07:08     4275  successful  ...  2010-07-06   4100.0   \n",
       "224183  2014-12-19 22:30:30        0   undefined  ...  2013-06-10  96000.0   \n",
       "165197  2011-11-08 22:41:56     5081  successful  ...  2016-07-12   5000.0   \n",
       "44113   2015-02-01 01:36:14     4542    canceled  ...  2014-11-18   2500.0   \n",
       "366029                  NaN      NaN         NaN  ...  2015-10-09   9000.0   \n",
       "\n",
       "                   launched  pledged       state backers  country  \\\n",
       "262730  2013-06-24 21:52:00  57141.0  successful     295       US   \n",
       "300504  2015-05-19 20:21:42      0.0      failed       0       US   \n",
       "119839  2016-12-24 01:44:32  84450.0  successful      43       MX   \n",
       "173577  2011-08-25 22:56:14    379.0      failed      11       US   \n",
       "287453  2017-03-22 14:50:54  13070.0  successful      96       US   \n",
       "243303  2010-05-31 10:27:26     80.0    canceled       6       US   \n",
       "224183  2013-05-10 18:59:18   4217.0    canceled      35       US   \n",
       "165197  2016-06-27 19:55:09     60.0      failed       1       GB   \n",
       "44113   2014-09-19 19:37:35      0.0   suspended       0       GB   \n",
       "366029  2015-09-09 00:20:45  12475.0  successful      38       US   \n",
       "\n",
       "        usd pledged usd_pledged_real usd_goal_real  \n",
       "262730     57141.00         57141.00      25000.00  \n",
       "300504         0.00             0.00       6000.00  \n",
       "119839       218.81          4288.11       4062.15  \n",
       "173577       379.00           379.00        750.00  \n",
       "287453      7893.00         13070.00       1200.00  \n",
       "243303        80.00            80.00       4100.00  \n",
       "224183      4217.00          4217.00      96000.00  \n",
       "165197         0.00            80.18       6681.45  \n",
       "44113          0.00             0.00       3920.58  \n",
       "366029     12475.00         12475.00       9000.00  \n",
       "\n",
       "[10 rows x 32 columns]"
      ],
      "text/html": "<div>\n<style scoped>\n    .dataframe tbody tr th:only-of-type {\n        vertical-align: middle;\n    }\n\n    .dataframe tbody tr th {\n        vertical-align: top;\n    }\n\n    .dataframe thead th {\n        text-align: right;\n    }\n</style>\n<table border=\"1\" class=\"dataframe\">\n  <thead>\n    <tr style=\"text-align: right;\">\n      <th></th>\n      <th>ID</th>\n      <th>name</th>\n      <th>category</th>\n      <th>main_category</th>\n      <th>currency</th>\n      <th>deadline</th>\n      <th>goal</th>\n      <th>launched</th>\n      <th>pledged</th>\n      <th>state</th>\n      <th>...</th>\n      <th>deadline</th>\n      <th>goal</th>\n      <th>launched</th>\n      <th>pledged</th>\n      <th>state</th>\n      <th>backers</th>\n      <th>country</th>\n      <th>usd pledged</th>\n      <th>usd_pledged_real</th>\n      <th>usd_goal_real</th>\n    </tr>\n  </thead>\n  <tbody>\n    <tr>\n      <th>262730</th>\n      <td>6.337368e+08</td>\n      <td>Join the rainforest cockatoo film project!</td>\n      <td>Film &amp; Video</td>\n      <td>Film &amp; Video</td>\n      <td>USD</td>\n      <td>2014-02-26 03:55:32</td>\n      <td>19100</td>\n      <td>2014-01-17 03:55:32</td>\n      <td>101</td>\n      <td>failed</td>\n      <td>...</td>\n      <td>2013-07-24</td>\n      <td>25000.0</td>\n      <td>2013-06-24 21:52:00</td>\n      <td>57141.0</td>\n      <td>successful</td>\n      <td>295</td>\n      <td>US</td>\n      <td>57141.00</td>\n      <td>57141.00</td>\n      <td>25000.00</td>\n    </tr>\n    <tr>\n      <th>300504</th>\n      <td>8.603800e+08</td>\n      <td>Mustache Monocles</td>\n      <td>Fashion</td>\n      <td>Fashion</td>\n      <td>USD</td>\n      <td>2012-07-16 21:00:00</td>\n      <td>20000</td>\n      <td>2012-06-12 10:08:14</td>\n      <td>5089</td>\n      <td>failed</td>\n      <td>...</td>\n      <td>2015-06-02</td>\n      <td>6000.0</td>\n      <td>2015-05-19 20:21:42</td>\n      <td>0.0</td>\n      <td>failed</td>\n      <td>0</td>\n      <td>US</td>\n      <td>0.00</td>\n      <td>0.00</td>\n      <td>6000.00</td>\n    </tr>\n    <tr>\n      <th>119839</th>\n      <td>1.711382e+09</td>\n      <td>Joker Cricket - Annoy Everyone With This Hidde...</td>\n      <td>Product Design</td>\n      <td>Design</td>\n      <td>USD</td>\n      <td>2016-11-10 21:01:26</td>\n      <td>12500</td>\n      <td>2016-10-11 21:01:26</td>\n      <td>15214</td>\n      <td>successful</td>\n      <td>...</td>\n      <td>2017-02-22</td>\n      <td>80000.0</td>\n      <td>2016-12-24 01:44:32</td>\n      <td>84450.0</td>\n      <td>successful</td>\n      <td>43</td>\n      <td>MX</td>\n      <td>218.81</td>\n      <td>4288.11</td>\n      <td>4062.15</td>\n    </tr>\n    <tr>\n      <th>173577</th>\n      <td>2.033064e+09</td>\n      <td>ONCE IN A LIFETIME: \"Just Go For It!\" (Canceled)</td>\n      <td>Drama</td>\n      <td>Film &amp; Video</td>\n      <td>USD</td>\n      <td>2015-09-02 18:05:19</td>\n      <td>125000</td>\n      <td>2015-08-03 18:05:19</td>\n      <td>0</td>\n      <td>canceled</td>\n      <td>...</td>\n      <td>2011-10-24</td>\n      <td>750.0</td>\n      <td>2011-08-25 22:56:14</td>\n      <td>379.0</td>\n      <td>failed</td>\n      <td>11</td>\n      <td>US</td>\n      <td>379.00</td>\n      <td>379.00</td>\n      <td>750.00</td>\n    </tr>\n    <tr>\n      <th>287453</th>\n      <td>7.820680e+08</td>\n      <td>Dirty 30,  etched metal photo series project</td>\n      <td>Installations</td>\n      <td>Art</td>\n      <td>USD</td>\n      <td>2015-03-04 08:59:00</td>\n      <td>1000</td>\n      <td>2015-02-04 20:03:47</td>\n      <td>1564</td>\n      <td>successful</td>\n      <td>...</td>\n      <td>2017-04-23</td>\n      <td>1200.0</td>\n      <td>2017-03-22 14:50:54</td>\n      <td>13070.0</td>\n      <td>successful</td>\n      <td>96</td>\n      <td>US</td>\n      <td>7893.00</td>\n      <td>13070.00</td>\n      <td>1200.00</td>\n    </tr>\n    <tr>\n      <th>243303</th>\n      <td>5.162245e+08</td>\n      <td>Onomasticon: A Vocabulary for Nowhere</td>\n      <td>Photography</td>\n      <td>Photography</td>\n      <td>USD</td>\n      <td>2010-09-25 06:59:00</td>\n      <td>4000</td>\n      <td>2010-06-28 06:07:08</td>\n      <td>4275</td>\n      <td>successful</td>\n      <td>...</td>\n      <td>2010-07-06</td>\n      <td>4100.0</td>\n      <td>2010-05-31 10:27:26</td>\n      <td>80.0</td>\n      <td>canceled</td>\n      <td>6</td>\n      <td>US</td>\n      <td>80.00</td>\n      <td>80.00</td>\n      <td>4100.00</td>\n    </tr>\n    <tr>\n      <th>224183</th>\n      <td>4.022676e+08</td>\n      <td>A walk in the park</td>\n      <td>Film &amp; Video</td>\n      <td>Film &amp; Video</td>\n      <td>EUR</td>\n      <td>2015-01-18 22:30:30</td>\n      <td>1000</td>\n      <td>2014-12-19 22:30:30</td>\n      <td>0</td>\n      <td>undefined</td>\n      <td>...</td>\n      <td>2013-06-10</td>\n      <td>96000.0</td>\n      <td>2013-05-10 18:59:18</td>\n      <td>4217.0</td>\n      <td>canceled</td>\n      <td>35</td>\n      <td>US</td>\n      <td>4217.00</td>\n      <td>4217.00</td>\n      <td>96000.00</td>\n    </tr>\n    <tr>\n      <th>165197</th>\n      <td>1.982450e+09</td>\n      <td>Theme Song Thesis</td>\n      <td>Shorts</td>\n      <td>Film &amp; Video</td>\n      <td>USD</td>\n      <td>2011-12-08 22:41:56</td>\n      <td>5000</td>\n      <td>2011-11-08 22:41:56</td>\n      <td>5081</td>\n      <td>successful</td>\n      <td>...</td>\n      <td>2016-07-12</td>\n      <td>5000.0</td>\n      <td>2016-06-27 19:55:09</td>\n      <td>60.0</td>\n      <td>failed</td>\n      <td>1</td>\n      <td>GB</td>\n      <td>0.00</td>\n      <td>80.18</td>\n      <td>6681.45</td>\n    </tr>\n    <tr>\n      <th>44113</th>\n      <td>1.262198e+09</td>\n      <td>Lapis Azurai (Canceled)</td>\n      <td>Video Games</td>\n      <td>Games</td>\n      <td>USD</td>\n      <td>2015-03-03 01:36:14</td>\n      <td>20000</td>\n      <td>2015-02-01 01:36:14</td>\n      <td>4542</td>\n      <td>canceled</td>\n      <td>...</td>\n      <td>2014-11-18</td>\n      <td>2500.0</td>\n      <td>2014-09-19 19:37:35</td>\n      <td>0.0</td>\n      <td>suspended</td>\n      <td>0</td>\n      <td>GB</td>\n      <td>0.00</td>\n      <td>0.00</td>\n      <td>3920.58</td>\n    </tr>\n    <tr>\n      <th>366029</th>\n      <td>NaN</td>\n      <td>NaN</td>\n      <td>NaN</td>\n      <td>NaN</td>\n      <td>NaN</td>\n      <td>NaN</td>\n      <td>NaN</td>\n      <td>NaN</td>\n      <td>NaN</td>\n      <td>NaN</td>\n      <td>...</td>\n      <td>2015-10-09</td>\n      <td>9000.0</td>\n      <td>2015-09-09 00:20:45</td>\n      <td>12475.0</td>\n      <td>successful</td>\n      <td>38</td>\n      <td>US</td>\n      <td>12475.00</td>\n      <td>12475.00</td>\n      <td>9000.00</td>\n    </tr>\n  </tbody>\n</table>\n<p>10 rows × 32 columns</p>\n</div>"
     },
     "metadata": {},
     "execution_count": 25
    }
   ],
   "source": [
    "df1 = pd.read_csv(r'C:\\Users\\zacks\\repos\\kickstarter-success\\U4-BW-Template\\U4-BW-Template\\data\\ks-projects-201612.csv')\n",
    "df2 = pd.read_csv(r'C:\\Users\\zacks\\repos\\kickstarter-success\\U4-BW-Template\\U4-BW-Template\\data\\ks-projects-201801.csv')\n",
    "df = pd.concat([df1, df2], axis=1)\n",
    "df.sample(10)"
   ]
  },
  {
   "cell_type": "code",
   "execution_count": 26,
   "metadata": {},
   "outputs": [
    {
     "output_type": "execute_result",
     "data": {
      "text/plain": [
       "(378661, 13)"
      ]
     },
     "metadata": {},
     "execution_count": 26
    }
   ],
   "source": [
    "df = df.dropna(axis=1)\n",
    "df.shape"
   ]
  },
  {
   "cell_type": "code",
   "execution_count": 27,
   "metadata": {},
   "outputs": [
    {
     "output_type": "execute_result",
     "data": {
      "text/plain": [
       "                ID      category main_category currency    deadline     goal  \\\n",
       "305446   625547544  Illustration           Art      USD  2017-11-01   8000.0   \n",
       "98089   1498067758       Gadgets    Technology      USD  2014-10-31  18000.0   \n",
       "161157   181977632   Documentary  Film & Video      USD  2016-08-26  50000.0   \n",
       "10225   1051420663          Rock         Music      USD  2012-09-12   5000.0   \n",
       "228551   231837111   Documentary  Film & Video      USD  2013-08-12  10000.0   \n",
       "238816    28435538        Shorts  Film & Video      USD  2016-12-11   1800.0   \n",
       "305178   624062025       Theater       Theater      USD  2011-11-02   2400.0   \n",
       "1469    1007513533   Accessories       Fashion      AUD  2014-09-25   5000.0   \n",
       "287834   534520396        Comics        Comics      USD  2013-02-07  20000.0   \n",
       "179937  1915312493     Webseries  Film & Video      USD  2013-04-26   5500.0   \n",
       "\n",
       "                   launched   pledged       state  backers country  \\\n",
       "305446  2017-10-07 20:59:13   8066.00  successful      151      US   \n",
       "98089   2014-10-01 01:57:41    480.00      failed       14      US   \n",
       "161157  2016-07-27 15:40:42      1.00      failed        1      US   \n",
       "10225   2012-08-22 07:47:09   5240.00  successful       66      US   \n",
       "228551  2013-07-08 23:02:57  10647.00  successful      145      US   \n",
       "238816  2016-11-11 22:37:38    280.00      failed       13      US   \n",
       "305178  2011-10-02 21:16:04   2491.00  successful       72      US   \n",
       "1469    2014-09-18 23:29:49      0.00      failed        0      AU   \n",
       "287834  2013-01-07 02:40:20  94502.95  successful     2469      US   \n",
       "179937  2013-03-26 04:17:30   5855.00  successful       84      US   \n",
       "\n",
       "        usd_pledged_real  usd_goal_real  \n",
       "305446           8066.00         8000.0  \n",
       "98089             480.00        18000.0  \n",
       "161157              1.00        50000.0  \n",
       "10225            5240.00         5000.0  \n",
       "228551          10647.00        10000.0  \n",
       "238816            280.00         1800.0  \n",
       "305178           2491.00         2400.0  \n",
       "1469                0.00         4395.6  \n",
       "287834          94502.95        20000.0  \n",
       "179937           5855.00         5500.0  "
      ],
      "text/html": "<div>\n<style scoped>\n    .dataframe tbody tr th:only-of-type {\n        vertical-align: middle;\n    }\n\n    .dataframe tbody tr th {\n        vertical-align: top;\n    }\n\n    .dataframe thead th {\n        text-align: right;\n    }\n</style>\n<table border=\"1\" class=\"dataframe\">\n  <thead>\n    <tr style=\"text-align: right;\">\n      <th></th>\n      <th>ID</th>\n      <th>category</th>\n      <th>main_category</th>\n      <th>currency</th>\n      <th>deadline</th>\n      <th>goal</th>\n      <th>launched</th>\n      <th>pledged</th>\n      <th>state</th>\n      <th>backers</th>\n      <th>country</th>\n      <th>usd_pledged_real</th>\n      <th>usd_goal_real</th>\n    </tr>\n  </thead>\n  <tbody>\n    <tr>\n      <th>305446</th>\n      <td>625547544</td>\n      <td>Illustration</td>\n      <td>Art</td>\n      <td>USD</td>\n      <td>2017-11-01</td>\n      <td>8000.0</td>\n      <td>2017-10-07 20:59:13</td>\n      <td>8066.00</td>\n      <td>successful</td>\n      <td>151</td>\n      <td>US</td>\n      <td>8066.00</td>\n      <td>8000.0</td>\n    </tr>\n    <tr>\n      <th>98089</th>\n      <td>1498067758</td>\n      <td>Gadgets</td>\n      <td>Technology</td>\n      <td>USD</td>\n      <td>2014-10-31</td>\n      <td>18000.0</td>\n      <td>2014-10-01 01:57:41</td>\n      <td>480.00</td>\n      <td>failed</td>\n      <td>14</td>\n      <td>US</td>\n      <td>480.00</td>\n      <td>18000.0</td>\n    </tr>\n    <tr>\n      <th>161157</th>\n      <td>181977632</td>\n      <td>Documentary</td>\n      <td>Film &amp; Video</td>\n      <td>USD</td>\n      <td>2016-08-26</td>\n      <td>50000.0</td>\n      <td>2016-07-27 15:40:42</td>\n      <td>1.00</td>\n      <td>failed</td>\n      <td>1</td>\n      <td>US</td>\n      <td>1.00</td>\n      <td>50000.0</td>\n    </tr>\n    <tr>\n      <th>10225</th>\n      <td>1051420663</td>\n      <td>Rock</td>\n      <td>Music</td>\n      <td>USD</td>\n      <td>2012-09-12</td>\n      <td>5000.0</td>\n      <td>2012-08-22 07:47:09</td>\n      <td>5240.00</td>\n      <td>successful</td>\n      <td>66</td>\n      <td>US</td>\n      <td>5240.00</td>\n      <td>5000.0</td>\n    </tr>\n    <tr>\n      <th>228551</th>\n      <td>231837111</td>\n      <td>Documentary</td>\n      <td>Film &amp; Video</td>\n      <td>USD</td>\n      <td>2013-08-12</td>\n      <td>10000.0</td>\n      <td>2013-07-08 23:02:57</td>\n      <td>10647.00</td>\n      <td>successful</td>\n      <td>145</td>\n      <td>US</td>\n      <td>10647.00</td>\n      <td>10000.0</td>\n    </tr>\n    <tr>\n      <th>238816</th>\n      <td>28435538</td>\n      <td>Shorts</td>\n      <td>Film &amp; Video</td>\n      <td>USD</td>\n      <td>2016-12-11</td>\n      <td>1800.0</td>\n      <td>2016-11-11 22:37:38</td>\n      <td>280.00</td>\n      <td>failed</td>\n      <td>13</td>\n      <td>US</td>\n      <td>280.00</td>\n      <td>1800.0</td>\n    </tr>\n    <tr>\n      <th>305178</th>\n      <td>624062025</td>\n      <td>Theater</td>\n      <td>Theater</td>\n      <td>USD</td>\n      <td>2011-11-02</td>\n      <td>2400.0</td>\n      <td>2011-10-02 21:16:04</td>\n      <td>2491.00</td>\n      <td>successful</td>\n      <td>72</td>\n      <td>US</td>\n      <td>2491.00</td>\n      <td>2400.0</td>\n    </tr>\n    <tr>\n      <th>1469</th>\n      <td>1007513533</td>\n      <td>Accessories</td>\n      <td>Fashion</td>\n      <td>AUD</td>\n      <td>2014-09-25</td>\n      <td>5000.0</td>\n      <td>2014-09-18 23:29:49</td>\n      <td>0.00</td>\n      <td>failed</td>\n      <td>0</td>\n      <td>AU</td>\n      <td>0.00</td>\n      <td>4395.6</td>\n    </tr>\n    <tr>\n      <th>287834</th>\n      <td>534520396</td>\n      <td>Comics</td>\n      <td>Comics</td>\n      <td>USD</td>\n      <td>2013-02-07</td>\n      <td>20000.0</td>\n      <td>2013-01-07 02:40:20</td>\n      <td>94502.95</td>\n      <td>successful</td>\n      <td>2469</td>\n      <td>US</td>\n      <td>94502.95</td>\n      <td>20000.0</td>\n    </tr>\n    <tr>\n      <th>179937</th>\n      <td>1915312493</td>\n      <td>Webseries</td>\n      <td>Film &amp; Video</td>\n      <td>USD</td>\n      <td>2013-04-26</td>\n      <td>5500.0</td>\n      <td>2013-03-26 04:17:30</td>\n      <td>5855.00</td>\n      <td>successful</td>\n      <td>84</td>\n      <td>US</td>\n      <td>5855.00</td>\n      <td>5500.0</td>\n    </tr>\n  </tbody>\n</table>\n</div>"
     },
     "metadata": {},
     "execution_count": 27
    }
   ],
   "source": [
    "df.sample(10)"
   ]
  },
  {
   "cell_type": "code",
   "execution_count": 28,
   "metadata": {},
   "outputs": [
    {
     "output_type": "execute_result",
     "data": {
      "text/plain": [
       "(339882, 13)"
      ]
     },
     "metadata": {},
     "execution_count": 28
    }
   ],
   "source": [
    "df = df[df['state'] != 'canceled']\n",
    "\n",
    "df.shape"
   ]
  },
  {
   "cell_type": "code",
   "execution_count": 29,
   "metadata": {},
   "outputs": [
    {
     "output_type": "execute_result",
     "data": {
      "text/plain": [
       "                ID     category main_category currency    deadline     goal  \\\n",
       "103099   152407258  Comic Books        Comics      EUR  2017-05-10   3780.0   \n",
       "178427  1907837116         Rock         Music      USD  2012-08-10   5000.0   \n",
       "247973    33123665  Video Games         Games      USD  2014-12-24  30000.0   \n",
       "323327   716877904       Crafts        Crafts      USD  2014-10-03  50000.0   \n",
       "172065  1875150771   Publishing    Publishing      USD  2012-03-10  10000.0   \n",
       "273386   460794434       Drinks          Food      USD  2015-01-04  12500.0   \n",
       "6469    1033075604  Photography   Photography      USD  2012-12-13   1513.0   \n",
       "133642  1678223917       Shorts  Film & Video      USD  2013-12-08  10000.0   \n",
       "180648  1919062009   Publishing    Publishing      USD  2017-11-28  12000.0   \n",
       "300572   600506175        Music         Music      USD  2011-12-03   3000.0   \n",
       "\n",
       "                   launched   pledged       state  backers country  \\\n",
       "103099  2017-03-21 12:54:49      0.00      failed        0      ES   \n",
       "178427  2012-07-11 05:29:36      0.00      failed        0      US   \n",
       "247973  2014-11-24 01:45:40   3036.00      failed       39      US   \n",
       "323327  2014-09-03 14:04:03      0.00      failed        0      US   \n",
       "172065  2012-02-09 00:00:35  11181.00  successful      201      US   \n",
       "273386  2014-12-05 04:45:35  15230.00  successful      152      US   \n",
       "6469    2012-11-13 16:56:15     70.00      failed        2      US   \n",
       "133642  2013-11-08 16:33:31      0.00      failed        0      US   \n",
       "180648  2017-10-24 17:48:18  28443.65  successful      644      US   \n",
       "300572  2011-11-09 14:38:15   3490.00  successful       74      US   \n",
       "\n",
       "        usd_pledged_real  usd_goal_real  \n",
       "103099              0.00        4111.11  \n",
       "178427              0.00        5000.00  \n",
       "247973           3036.00       30000.00  \n",
       "323327              0.00       50000.00  \n",
       "172065          11181.00       10000.00  \n",
       "273386          15230.00       12500.00  \n",
       "6469               70.00        1513.00  \n",
       "133642              0.00       10000.00  \n",
       "180648          28443.65       12000.00  \n",
       "300572           3490.00        3000.00  "
      ],
      "text/html": "<div>\n<style scoped>\n    .dataframe tbody tr th:only-of-type {\n        vertical-align: middle;\n    }\n\n    .dataframe tbody tr th {\n        vertical-align: top;\n    }\n\n    .dataframe thead th {\n        text-align: right;\n    }\n</style>\n<table border=\"1\" class=\"dataframe\">\n  <thead>\n    <tr style=\"text-align: right;\">\n      <th></th>\n      <th>ID</th>\n      <th>category</th>\n      <th>main_category</th>\n      <th>currency</th>\n      <th>deadline</th>\n      <th>goal</th>\n      <th>launched</th>\n      <th>pledged</th>\n      <th>state</th>\n      <th>backers</th>\n      <th>country</th>\n      <th>usd_pledged_real</th>\n      <th>usd_goal_real</th>\n    </tr>\n  </thead>\n  <tbody>\n    <tr>\n      <th>103099</th>\n      <td>152407258</td>\n      <td>Comic Books</td>\n      <td>Comics</td>\n      <td>EUR</td>\n      <td>2017-05-10</td>\n      <td>3780.0</td>\n      <td>2017-03-21 12:54:49</td>\n      <td>0.00</td>\n      <td>failed</td>\n      <td>0</td>\n      <td>ES</td>\n      <td>0.00</td>\n      <td>4111.11</td>\n    </tr>\n    <tr>\n      <th>178427</th>\n      <td>1907837116</td>\n      <td>Rock</td>\n      <td>Music</td>\n      <td>USD</td>\n      <td>2012-08-10</td>\n      <td>5000.0</td>\n      <td>2012-07-11 05:29:36</td>\n      <td>0.00</td>\n      <td>failed</td>\n      <td>0</td>\n      <td>US</td>\n      <td>0.00</td>\n      <td>5000.00</td>\n    </tr>\n    <tr>\n      <th>247973</th>\n      <td>33123665</td>\n      <td>Video Games</td>\n      <td>Games</td>\n      <td>USD</td>\n      <td>2014-12-24</td>\n      <td>30000.0</td>\n      <td>2014-11-24 01:45:40</td>\n      <td>3036.00</td>\n      <td>failed</td>\n      <td>39</td>\n      <td>US</td>\n      <td>3036.00</td>\n      <td>30000.00</td>\n    </tr>\n    <tr>\n      <th>323327</th>\n      <td>716877904</td>\n      <td>Crafts</td>\n      <td>Crafts</td>\n      <td>USD</td>\n      <td>2014-10-03</td>\n      <td>50000.0</td>\n      <td>2014-09-03 14:04:03</td>\n      <td>0.00</td>\n      <td>failed</td>\n      <td>0</td>\n      <td>US</td>\n      <td>0.00</td>\n      <td>50000.00</td>\n    </tr>\n    <tr>\n      <th>172065</th>\n      <td>1875150771</td>\n      <td>Publishing</td>\n      <td>Publishing</td>\n      <td>USD</td>\n      <td>2012-03-10</td>\n      <td>10000.0</td>\n      <td>2012-02-09 00:00:35</td>\n      <td>11181.00</td>\n      <td>successful</td>\n      <td>201</td>\n      <td>US</td>\n      <td>11181.00</td>\n      <td>10000.00</td>\n    </tr>\n    <tr>\n      <th>273386</th>\n      <td>460794434</td>\n      <td>Drinks</td>\n      <td>Food</td>\n      <td>USD</td>\n      <td>2015-01-04</td>\n      <td>12500.0</td>\n      <td>2014-12-05 04:45:35</td>\n      <td>15230.00</td>\n      <td>successful</td>\n      <td>152</td>\n      <td>US</td>\n      <td>15230.00</td>\n      <td>12500.00</td>\n    </tr>\n    <tr>\n      <th>6469</th>\n      <td>1033075604</td>\n      <td>Photography</td>\n      <td>Photography</td>\n      <td>USD</td>\n      <td>2012-12-13</td>\n      <td>1513.0</td>\n      <td>2012-11-13 16:56:15</td>\n      <td>70.00</td>\n      <td>failed</td>\n      <td>2</td>\n      <td>US</td>\n      <td>70.00</td>\n      <td>1513.00</td>\n    </tr>\n    <tr>\n      <th>133642</th>\n      <td>1678223917</td>\n      <td>Shorts</td>\n      <td>Film &amp; Video</td>\n      <td>USD</td>\n      <td>2013-12-08</td>\n      <td>10000.0</td>\n      <td>2013-11-08 16:33:31</td>\n      <td>0.00</td>\n      <td>failed</td>\n      <td>0</td>\n      <td>US</td>\n      <td>0.00</td>\n      <td>10000.00</td>\n    </tr>\n    <tr>\n      <th>180648</th>\n      <td>1919062009</td>\n      <td>Publishing</td>\n      <td>Publishing</td>\n      <td>USD</td>\n      <td>2017-11-28</td>\n      <td>12000.0</td>\n      <td>2017-10-24 17:48:18</td>\n      <td>28443.65</td>\n      <td>successful</td>\n      <td>644</td>\n      <td>US</td>\n      <td>28443.65</td>\n      <td>12000.00</td>\n    </tr>\n    <tr>\n      <th>300572</th>\n      <td>600506175</td>\n      <td>Music</td>\n      <td>Music</td>\n      <td>USD</td>\n      <td>2011-12-03</td>\n      <td>3000.0</td>\n      <td>2011-11-09 14:38:15</td>\n      <td>3490.00</td>\n      <td>successful</td>\n      <td>74</td>\n      <td>US</td>\n      <td>3490.00</td>\n      <td>3000.00</td>\n    </tr>\n  </tbody>\n</table>\n</div>"
     },
     "metadata": {},
     "execution_count": 29
    }
   ],
   "source": [
    "df.sample(10)"
   ]
  },
  {
   "cell_type": "code",
   "execution_count": 30,
   "metadata": {},
   "outputs": [
    {
     "output_type": "execute_result",
     "data": {
      "text/plain": [
       "           category main_category currency    deadline             launched  \\\n",
       "23622   Accessories       Fashion      USD  2016-11-24  2016-11-17 20:42:52   \n",
       "93457         Drama  Film & Video      GBP  2015-03-26  2015-02-26 11:49:12   \n",
       "228985        Music         Music      USD  2012-01-08  2011-12-08 18:00:35   \n",
       "341601       People   Photography      USD  2017-10-15  2017-08-31 03:46:48   \n",
       "191911    Webseries  Film & Video      USD  2015-01-29  2014-12-30 19:14:20   \n",
       "\n",
       "       country       state     goal  \n",
       "23622       US  successful    100.0  \n",
       "93457       GB  successful   3000.0  \n",
       "228985      US  successful   5000.0  \n",
       "341601      US  successful   1000.0  \n",
       "191911      US      failed  15000.0  "
      ],
      "text/html": "<div>\n<style scoped>\n    .dataframe tbody tr th:only-of-type {\n        vertical-align: middle;\n    }\n\n    .dataframe tbody tr th {\n        vertical-align: top;\n    }\n\n    .dataframe thead th {\n        text-align: right;\n    }\n</style>\n<table border=\"1\" class=\"dataframe\">\n  <thead>\n    <tr style=\"text-align: right;\">\n      <th></th>\n      <th>category</th>\n      <th>main_category</th>\n      <th>currency</th>\n      <th>deadline</th>\n      <th>launched</th>\n      <th>country</th>\n      <th>state</th>\n      <th>goal</th>\n    </tr>\n  </thead>\n  <tbody>\n    <tr>\n      <th>23622</th>\n      <td>Accessories</td>\n      <td>Fashion</td>\n      <td>USD</td>\n      <td>2016-11-24</td>\n      <td>2016-11-17 20:42:52</td>\n      <td>US</td>\n      <td>successful</td>\n      <td>100.0</td>\n    </tr>\n    <tr>\n      <th>93457</th>\n      <td>Drama</td>\n      <td>Film &amp; Video</td>\n      <td>GBP</td>\n      <td>2015-03-26</td>\n      <td>2015-02-26 11:49:12</td>\n      <td>GB</td>\n      <td>successful</td>\n      <td>3000.0</td>\n    </tr>\n    <tr>\n      <th>228985</th>\n      <td>Music</td>\n      <td>Music</td>\n      <td>USD</td>\n      <td>2012-01-08</td>\n      <td>2011-12-08 18:00:35</td>\n      <td>US</td>\n      <td>successful</td>\n      <td>5000.0</td>\n    </tr>\n    <tr>\n      <th>341601</th>\n      <td>People</td>\n      <td>Photography</td>\n      <td>USD</td>\n      <td>2017-10-15</td>\n      <td>2017-08-31 03:46:48</td>\n      <td>US</td>\n      <td>successful</td>\n      <td>1000.0</td>\n    </tr>\n    <tr>\n      <th>191911</th>\n      <td>Webseries</td>\n      <td>Film &amp; Video</td>\n      <td>USD</td>\n      <td>2015-01-29</td>\n      <td>2014-12-30 19:14:20</td>\n      <td>US</td>\n      <td>failed</td>\n      <td>15000.0</td>\n    </tr>\n  </tbody>\n</table>\n</div>"
     },
     "metadata": {},
     "execution_count": 30
    }
   ],
   "source": [
    "#removing data leakage columns\n",
    "\n",
    "df = df[['category', 'main_category', 'currency', 'deadline', 'launched', 'country', 'state', 'goal']]\n",
    "\n",
    "df.sample(5)"
   ]
  },
  {
   "cell_type": "code",
   "execution_count": 31,
   "metadata": {},
   "outputs": [
    {
     "output_type": "execute_result",
     "data": {
      "text/plain": [
       "           category main_category currency    deadline             launched  \\\n",
       "51275        Shorts  Film & Video      USD  2011-07-31  2011-05-02 02:00:28   \n",
       "58504        Crafts        Crafts      USD  2013-09-21  2013-08-23 16:55:46   \n",
       "235588       Design        Design      USD  2012-02-27  2012-01-28 01:21:21   \n",
       "369027     Hardware    Technology      USD  2013-08-09  2013-07-10 13:54:31   \n",
       "64151   Documentary  Film & Video      USD  2012-11-26  2012-10-27 03:58:39   \n",
       "\n",
       "       country       state       goal  outcome  \n",
       "51275       US      failed    15000.0        0  \n",
       "58504       US  successful     2500.0        1  \n",
       "235588      US      failed    10000.0        0  \n",
       "369027      US      failed  3000000.0        0  \n",
       "64151       US      failed    10000.0        0  "
      ],
      "text/html": "<div>\n<style scoped>\n    .dataframe tbody tr th:only-of-type {\n        vertical-align: middle;\n    }\n\n    .dataframe tbody tr th {\n        vertical-align: top;\n    }\n\n    .dataframe thead th {\n        text-align: right;\n    }\n</style>\n<table border=\"1\" class=\"dataframe\">\n  <thead>\n    <tr style=\"text-align: right;\">\n      <th></th>\n      <th>category</th>\n      <th>main_category</th>\n      <th>currency</th>\n      <th>deadline</th>\n      <th>launched</th>\n      <th>country</th>\n      <th>state</th>\n      <th>goal</th>\n      <th>outcome</th>\n    </tr>\n  </thead>\n  <tbody>\n    <tr>\n      <th>51275</th>\n      <td>Shorts</td>\n      <td>Film &amp; Video</td>\n      <td>USD</td>\n      <td>2011-07-31</td>\n      <td>2011-05-02 02:00:28</td>\n      <td>US</td>\n      <td>failed</td>\n      <td>15000.0</td>\n      <td>0</td>\n    </tr>\n    <tr>\n      <th>58504</th>\n      <td>Crafts</td>\n      <td>Crafts</td>\n      <td>USD</td>\n      <td>2013-09-21</td>\n      <td>2013-08-23 16:55:46</td>\n      <td>US</td>\n      <td>successful</td>\n      <td>2500.0</td>\n      <td>1</td>\n    </tr>\n    <tr>\n      <th>235588</th>\n      <td>Design</td>\n      <td>Design</td>\n      <td>USD</td>\n      <td>2012-02-27</td>\n      <td>2012-01-28 01:21:21</td>\n      <td>US</td>\n      <td>failed</td>\n      <td>10000.0</td>\n      <td>0</td>\n    </tr>\n    <tr>\n      <th>369027</th>\n      <td>Hardware</td>\n      <td>Technology</td>\n      <td>USD</td>\n      <td>2013-08-09</td>\n      <td>2013-07-10 13:54:31</td>\n      <td>US</td>\n      <td>failed</td>\n      <td>3000000.0</td>\n      <td>0</td>\n    </tr>\n    <tr>\n      <th>64151</th>\n      <td>Documentary</td>\n      <td>Film &amp; Video</td>\n      <td>USD</td>\n      <td>2012-11-26</td>\n      <td>2012-10-27 03:58:39</td>\n      <td>US</td>\n      <td>failed</td>\n      <td>10000.0</td>\n      <td>0</td>\n    </tr>\n  </tbody>\n</table>\n</div>"
     },
     "metadata": {},
     "execution_count": 31
    }
   ],
   "source": [
    "#converting state into binary success and failure where success=1  and failure = 0 \n",
    "\n",
    "df = df.assign(outcome=(df['state'] == 'successful').astype(int))\n",
    "\n",
    "df.sample(5)"
   ]
  },
  {
   "cell_type": "code",
   "execution_count": 32,
   "metadata": {},
   "outputs": [
    {
     "output_type": "execute_result",
     "data": {
      "text/plain": [
       "         category main_category currency   deadline            launched  \\\n",
       "0          Poetry    Publishing      GBP 2015-10-09 2015-08-11 12:12:28   \n",
       "1  Narrative Film  Film & Video      USD 2017-11-01 2017-09-02 04:43:57   \n",
       "2  Narrative Film  Film & Video      USD 2013-02-26 2013-01-12 00:20:50   \n",
       "3           Music         Music      USD 2012-04-16 2012-03-17 03:24:11   \n",
       "5     Restaurants          Food      USD 2016-04-01 2016-02-26 13:38:27   \n",
       "\n",
       "  country       state     goal  outcome  hour_launched  day_launched  \\\n",
       "0      GB      failed   1000.0        0             12            11   \n",
       "1      US      failed  30000.0        0              4             2   \n",
       "2      US      failed  45000.0        0              0            12   \n",
       "3      US      failed   5000.0        0              3            17   \n",
       "5      US  successful  50000.0        1             13            26   \n",
       "\n",
       "   month_launched  year_launched  day_deadline  month_deadline  year_deadline  \n",
       "0               8           2015            11               8           2015  \n",
       "1               9           2017             2               9           2017  \n",
       "2               1           2013            12               1           2013  \n",
       "3               3           2012            17               3           2012  \n",
       "5               2           2016            26               2           2016  "
      ],
      "text/html": "<div>\n<style scoped>\n    .dataframe tbody tr th:only-of-type {\n        vertical-align: middle;\n    }\n\n    .dataframe tbody tr th {\n        vertical-align: top;\n    }\n\n    .dataframe thead th {\n        text-align: right;\n    }\n</style>\n<table border=\"1\" class=\"dataframe\">\n  <thead>\n    <tr style=\"text-align: right;\">\n      <th></th>\n      <th>category</th>\n      <th>main_category</th>\n      <th>currency</th>\n      <th>deadline</th>\n      <th>launched</th>\n      <th>country</th>\n      <th>state</th>\n      <th>goal</th>\n      <th>outcome</th>\n      <th>hour_launched</th>\n      <th>day_launched</th>\n      <th>month_launched</th>\n      <th>year_launched</th>\n      <th>day_deadline</th>\n      <th>month_deadline</th>\n      <th>year_deadline</th>\n    </tr>\n  </thead>\n  <tbody>\n    <tr>\n      <th>0</th>\n      <td>Poetry</td>\n      <td>Publishing</td>\n      <td>GBP</td>\n      <td>2015-10-09</td>\n      <td>2015-08-11 12:12:28</td>\n      <td>GB</td>\n      <td>failed</td>\n      <td>1000.0</td>\n      <td>0</td>\n      <td>12</td>\n      <td>11</td>\n      <td>8</td>\n      <td>2015</td>\n      <td>11</td>\n      <td>8</td>\n      <td>2015</td>\n    </tr>\n    <tr>\n      <th>1</th>\n      <td>Narrative Film</td>\n      <td>Film &amp; Video</td>\n      <td>USD</td>\n      <td>2017-11-01</td>\n      <td>2017-09-02 04:43:57</td>\n      <td>US</td>\n      <td>failed</td>\n      <td>30000.0</td>\n      <td>0</td>\n      <td>4</td>\n      <td>2</td>\n      <td>9</td>\n      <td>2017</td>\n      <td>2</td>\n      <td>9</td>\n      <td>2017</td>\n    </tr>\n    <tr>\n      <th>2</th>\n      <td>Narrative Film</td>\n      <td>Film &amp; Video</td>\n      <td>USD</td>\n      <td>2013-02-26</td>\n      <td>2013-01-12 00:20:50</td>\n      <td>US</td>\n      <td>failed</td>\n      <td>45000.0</td>\n      <td>0</td>\n      <td>0</td>\n      <td>12</td>\n      <td>1</td>\n      <td>2013</td>\n      <td>12</td>\n      <td>1</td>\n      <td>2013</td>\n    </tr>\n    <tr>\n      <th>3</th>\n      <td>Music</td>\n      <td>Music</td>\n      <td>USD</td>\n      <td>2012-04-16</td>\n      <td>2012-03-17 03:24:11</td>\n      <td>US</td>\n      <td>failed</td>\n      <td>5000.0</td>\n      <td>0</td>\n      <td>3</td>\n      <td>17</td>\n      <td>3</td>\n      <td>2012</td>\n      <td>17</td>\n      <td>3</td>\n      <td>2012</td>\n    </tr>\n    <tr>\n      <th>5</th>\n      <td>Restaurants</td>\n      <td>Food</td>\n      <td>USD</td>\n      <td>2016-04-01</td>\n      <td>2016-02-26 13:38:27</td>\n      <td>US</td>\n      <td>successful</td>\n      <td>50000.0</td>\n      <td>1</td>\n      <td>13</td>\n      <td>26</td>\n      <td>2</td>\n      <td>2016</td>\n      <td>26</td>\n      <td>2</td>\n      <td>2016</td>\n    </tr>\n  </tbody>\n</table>\n</div>"
     },
     "metadata": {},
     "execution_count": 32
    }
   ],
   "source": [
    "df['launched'] = pd.to_datetime(df['launched'])\n",
    "df['deadline'] = pd.to_datetime(df['deadline'])\n",
    "\n",
    "df = df.assign(hour_launched=df.launched.dt.hour,\n",
    "               day_launched=df.launched.dt.day,\n",
    "               month_launched=df.launched.dt.month,\n",
    "               year_launched=df.launched.dt.year)\n",
    "\n",
    "df = df.assign(day_deadline=df.launched.dt.day,\n",
    "               month_deadline=df.launched.dt.month,\n",
    "               year_deadline=df.launched.dt.year)\n",
    "\n",
    "df.head()"
   ]
  },
  {
   "cell_type": "code",
   "execution_count": 36,
   "metadata": {},
   "outputs": [
    {
     "output_type": "execute_result",
     "data": {
      "text/plain": [
       "      goal  hour_launched  day_launched  month_launched  year_launched  \\\n",
       "0   1000.0             12            11               8           2015   \n",
       "1  30000.0              4             2               9           2017   \n",
       "2  45000.0              0            12               1           2013   \n",
       "3   5000.0              3            17               3           2012   \n",
       "5  50000.0             13            26               2           2016   \n",
       "\n",
       "   day_deadline  month_deadline  year_deadline  outcome  category  currency  \\\n",
       "0            11               8           2015        0       108         5   \n",
       "1             2               9           2017        0        93        13   \n",
       "2            12               1           2013        0        93        13   \n",
       "3            17               3           2012        0        90        13   \n",
       "5            26               2           2016        1       123        13   \n",
       "\n",
       "   country  main_category  \n",
       "0        9             12  \n",
       "1       22              6  \n",
       "2       22              6  \n",
       "3       22             10  \n",
       "5       22              7  "
      ],
      "text/html": "<div>\n<style scoped>\n    .dataframe tbody tr th:only-of-type {\n        vertical-align: middle;\n    }\n\n    .dataframe tbody tr th {\n        vertical-align: top;\n    }\n\n    .dataframe thead th {\n        text-align: right;\n    }\n</style>\n<table border=\"1\" class=\"dataframe\">\n  <thead>\n    <tr style=\"text-align: right;\">\n      <th></th>\n      <th>goal</th>\n      <th>hour_launched</th>\n      <th>day_launched</th>\n      <th>month_launched</th>\n      <th>year_launched</th>\n      <th>day_deadline</th>\n      <th>month_deadline</th>\n      <th>year_deadline</th>\n      <th>outcome</th>\n      <th>category</th>\n      <th>currency</th>\n      <th>country</th>\n      <th>main_category</th>\n    </tr>\n  </thead>\n  <tbody>\n    <tr>\n      <th>0</th>\n      <td>1000.0</td>\n      <td>12</td>\n      <td>11</td>\n      <td>8</td>\n      <td>2015</td>\n      <td>11</td>\n      <td>8</td>\n      <td>2015</td>\n      <td>0</td>\n      <td>108</td>\n      <td>5</td>\n      <td>9</td>\n      <td>12</td>\n    </tr>\n    <tr>\n      <th>1</th>\n      <td>30000.0</td>\n      <td>4</td>\n      <td>2</td>\n      <td>9</td>\n      <td>2017</td>\n      <td>2</td>\n      <td>9</td>\n      <td>2017</td>\n      <td>0</td>\n      <td>93</td>\n      <td>13</td>\n      <td>22</td>\n      <td>6</td>\n    </tr>\n    <tr>\n      <th>2</th>\n      <td>45000.0</td>\n      <td>0</td>\n      <td>12</td>\n      <td>1</td>\n      <td>2013</td>\n      <td>12</td>\n      <td>1</td>\n      <td>2013</td>\n      <td>0</td>\n      <td>93</td>\n      <td>13</td>\n      <td>22</td>\n      <td>6</td>\n    </tr>\n    <tr>\n      <th>3</th>\n      <td>5000.0</td>\n      <td>3</td>\n      <td>17</td>\n      <td>3</td>\n      <td>2012</td>\n      <td>17</td>\n      <td>3</td>\n      <td>2012</td>\n      <td>0</td>\n      <td>90</td>\n      <td>13</td>\n      <td>22</td>\n      <td>10</td>\n    </tr>\n    <tr>\n      <th>5</th>\n      <td>50000.0</td>\n      <td>13</td>\n      <td>26</td>\n      <td>2</td>\n      <td>2016</td>\n      <td>26</td>\n      <td>2</td>\n      <td>2016</td>\n      <td>1</td>\n      <td>123</td>\n      <td>13</td>\n      <td>22</td>\n      <td>7</td>\n    </tr>\n  </tbody>\n</table>\n</div>"
     },
     "metadata": {},
     "execution_count": 36
    }
   ],
   "source": [
    "from sklearn.preprocessing import LabelEncoder\n",
    "\n",
    "cat_features = ['category', 'currency', 'country', 'main_category']\n",
    "encoder = LabelEncoder()\n",
    "\n",
    "encoded = df[cat_features].apply(encoder.fit_transform)\n",
    "encoded.head(10)\n",
    "\n",
    "df = df[['goal', 'hour_launched', 'day_launched', 'month_launched', 'year_launched','day_deadline', 'month_deadline', 'year_deadline', 'outcome']].join(encoded)\n",
    "df.head()"
   ]
  },
  {
   "cell_type": "markdown",
   "metadata": {},
   "source": [
    "## Data Exploration"
   ]
  },
  {
   "cell_type": "code",
   "execution_count": null,
   "metadata": {},
   "outputs": [],
   "source": [
    "# Descriptive statistics for key fields\n",
    "# Add visualizations (where applicable)"
   ]
  },
  {
   "cell_type": "markdown",
   "metadata": {},
   "source": [
    "## Baseline Model (Benchmark)"
   ]
  },
  {
   "cell_type": "code",
   "execution_count": 37,
   "metadata": {},
   "outputs": [
    {
     "output_type": "execute_result",
     "data": {
      "text/plain": [
       "      goal  hour_launched  day_launched  month_launched  year_launched  \\\n",
       "0   1000.0             12            11               8           2015   \n",
       "1  30000.0              4             2               9           2017   \n",
       "2  45000.0              0            12               1           2013   \n",
       "3   5000.0              3            17               3           2012   \n",
       "5  50000.0             13            26               2           2016   \n",
       "\n",
       "   day_deadline  month_deadline  year_deadline  \n",
       "0            11               8           2015  \n",
       "1             2               9           2017  \n",
       "2            12               1           2013  \n",
       "3            17               3           2012  \n",
       "5            26               2           2016  "
      ],
      "text/html": "<div>\n<style scoped>\n    .dataframe tbody tr th:only-of-type {\n        vertical-align: middle;\n    }\n\n    .dataframe tbody tr th {\n        vertical-align: top;\n    }\n\n    .dataframe thead th {\n        text-align: right;\n    }\n</style>\n<table border=\"1\" class=\"dataframe\">\n  <thead>\n    <tr style=\"text-align: right;\">\n      <th></th>\n      <th>goal</th>\n      <th>hour_launched</th>\n      <th>day_launched</th>\n      <th>month_launched</th>\n      <th>year_launched</th>\n      <th>day_deadline</th>\n      <th>month_deadline</th>\n      <th>year_deadline</th>\n    </tr>\n  </thead>\n  <tbody>\n    <tr>\n      <th>0</th>\n      <td>1000.0</td>\n      <td>12</td>\n      <td>11</td>\n      <td>8</td>\n      <td>2015</td>\n      <td>11</td>\n      <td>8</td>\n      <td>2015</td>\n    </tr>\n    <tr>\n      <th>1</th>\n      <td>30000.0</td>\n      <td>4</td>\n      <td>2</td>\n      <td>9</td>\n      <td>2017</td>\n      <td>2</td>\n      <td>9</td>\n      <td>2017</td>\n    </tr>\n    <tr>\n      <th>2</th>\n      <td>45000.0</td>\n      <td>0</td>\n      <td>12</td>\n      <td>1</td>\n      <td>2013</td>\n      <td>12</td>\n      <td>1</td>\n      <td>2013</td>\n    </tr>\n    <tr>\n      <th>3</th>\n      <td>5000.0</td>\n      <td>3</td>\n      <td>17</td>\n      <td>3</td>\n      <td>2012</td>\n      <td>17</td>\n      <td>3</td>\n      <td>2012</td>\n    </tr>\n    <tr>\n      <th>5</th>\n      <td>50000.0</td>\n      <td>13</td>\n      <td>26</td>\n      <td>2</td>\n      <td>2016</td>\n      <td>26</td>\n      <td>2</td>\n      <td>2016</td>\n    </tr>\n  </tbody>\n</table>\n</div>"
     },
     "metadata": {},
     "execution_count": 37
    }
   ],
   "source": [
    "# Simple baseline model\n",
    "features = ['goal', 'hour_launched', 'day_launched', 'month_launched', 'year_launched','day_deadline', 'month_deadline', 'year_deadline']\n",
    "target = 'outcome'\n",
    "\n",
    "X = df[features]\n",
    "y = df[target]\n",
    "\n",
    "X.head()\n"
   ]
  },
  {
   "cell_type": "code",
   "execution_count": 38,
   "metadata": {},
   "outputs": [],
   "source": [
    "#\n",
    "%load_ext tensorboard\n",
    "\n",
    "import os\n",
    "import datetime\n",
    "import tensorflow as tf\n",
    "\n",
    "logdir = os.path.join(\"logs\", datetime.datetime.now().strftime(\"%Y%m%d-%H%M%S\"))\n",
    "tensorboard_callback = tf.keras.callbacks.TensorBoard(logdir, histogram_freq=1)"
   ]
  },
  {
   "cell_type": "code",
   "execution_count": 39,
   "metadata": {},
   "outputs": [
    {
     "output_type": "stream",
     "name": "stdout",
     "text": [
      "Model: \"sequential\"\n_________________________________________________________________\nLayer (type)                 Output Shape              Param #   \n=================================================================\ndense (Dense)                (None, 128)               1152      \n_________________________________________________________________\ndense_1 (Dense)              (None, 64)                8256      \n_________________________________________________________________\ndense_2 (Dense)              (None, 1)                 65        \n=================================================================\nTotal params: 9,473\nTrainable params: 9,473\nNon-trainable params: 0\n_________________________________________________________________\n"
     ]
    }
   ],
   "source": [
    "from tensorflow.keras.models import Sequential\n",
    "from tensorflow.keras.layers import Dense\n",
    "\n",
    "model = Sequential([\n",
    "    Dense(128, input_dim=8, activation='relu'),\n",
    "    Dense(64, activation='relu'),\n",
    "    Desne(32, activation='relu'),\n",
    "    Dense(1, activation='sigmoid'),    \n",
    "])\n",
    "\n",
    "model.compile(loss='binary_crossentropy',\n",
    "              optimizer='adam',\n",
    "              metrics=['accuracy'])\n",
    "\n",
    "model.summary()"
   ]
  },
  {
   "cell_type": "code",
   "execution_count": null,
   "metadata": {},
   "outputs": [],
   "source": [
    "model.fit(X, y,\n",
    "          epochs=10,\n",
    "          batch_size=32,\n",
    "          validation_split=0.2,\n",
    "          callbacks=[tensorboard_callback])"
   ]
  },
  {
   "cell_type": "code",
   "execution_count": 42,
   "metadata": {},
   "outputs": [
    {
     "output_type": "display_data",
     "data": {
      "text/plain": "ERROR: Timed out waiting for TensorBoard to start. It may still be running as pid 12584."
     },
     "metadata": {}
    }
   ],
   "source": [
    "%tensorboard --logdir logs"
   ]
  },
  {
   "cell_type": "markdown",
   "metadata": {},
   "source": [
    "## Modeling Approach #1"
   ]
  },
  {
   "cell_type": "code",
   "execution_count": null,
   "metadata": {},
   "outputs": [],
   "source": []
  },
  {
   "cell_type": "markdown",
   "metadata": {},
   "source": [
    "## Modeling Approach #2"
   ]
  },
  {
   "cell_type": "code",
   "execution_count": null,
   "metadata": {},
   "outputs": [],
   "source": []
  },
  {
   "cell_type": "markdown",
   "metadata": {},
   "source": [
    "## Hyper-parameter Tuning for Best Model"
   ]
  },
  {
   "cell_type": "code",
   "execution_count": null,
   "metadata": {},
   "outputs": [],
   "source": []
  },
  {
   "cell_type": "markdown",
   "metadata": {},
   "source": [
    "## Save Final Model"
   ]
  },
  {
   "cell_type": "code",
   "execution_count": null,
   "metadata": {},
   "outputs": [],
   "source": [
    "import joblib\n",
    "\n",
    "joblib.dump(model, '../models/model_name.joblib')"
   ]
  }
 ],
 "metadata": {
  "kernelspec": {
   "name": "python3",
   "display_name": "Python 3.8.0 64-bit ('kickstarter-success': pipenv)",
   "metadata": {
    "interpreter": {
     "hash": "ebde07714c946797f80d2eb65046de0aaaa7964d512aeda8d8c11a98861fc834"
    }
   }
  },
  "language_info": {
   "codemirror_mode": {
    "name": "ipython",
    "version": 3
   },
   "file_extension": ".py",
   "mimetype": "text/x-python",
   "name": "python",
   "nbconvert_exporter": "python",
   "pygments_lexer": "ipython3",
   "version": "3.8.0-final"
  }
 },
 "nbformat": 4,
 "nbformat_minor": 4
}